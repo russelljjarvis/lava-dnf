{
 "cells": [
  {
   "cell_type": "code",
   "execution_count": 1,
   "id": "80940b82",
   "metadata": {},
   "outputs": [],
   "source": [
    "from lava.lib.dnf.operations.operations import Weights\n",
    "from lava.lib.dnf.operations.operations import *\n",
    "from lava.proc.lif.process import LIF\n",
    "from lava.lib.dnf.inputs.rate_code_spike_gen.process import RateCodeSpikeGen\n",
    "# one to one connect excitatory layers to themselves.\n",
    "from lava.lib.dnf.connect.connect import connect\n",
    "from lava.lib.dnf.operations.operations import Weights\n",
    "from lava.magma.core.run_configs import Loihi1SimCfg #Loihi simulator, not  Loihi itself.\n",
    "from lava.magma.core.run_conditions import RunSteps\n",
    "from lava.proc.monitor.process import Monitor\n",
    "from lava.proc.monitor.models import PyMonitorModel\n",
    "from lava.lib.dnf.inputs.gauss_pattern.process import GaussPattern\n",
    "from lava.lib.dnf.kernels.kernels import MultiPeakKernel\n",
    "import numpy as np\n",
    "\n"
   ]
  },
  {
   "cell_type": "code",
   "execution_count": 2,
   "id": "2b210ce8",
   "metadata": {},
   "outputs": [],
   "source": [
    "ncolumns=2\n",
    "#?GaussPattern"
   ]
  },
  {
   "cell_type": "code",
   "execution_count": 3,
   "id": "e6cb0210",
   "metadata": {},
   "outputs": [],
   "source": [
    "ly_2_3_ex = np.ndarray((ncolumns),dtype=object)#,LIF()))\n",
    "ly_4_ex = np.ndarray((ncolumns),dtype=object)#LIF))\n",
    "ly_5_ex = np.ndarray((ncolumns),dtype=object)#,LIF))\n",
    "ly_6_ex = np.ndarray((ncolumns),dtype=object)#,LIF))\n",
    "\n",
    "\n",
    "ly_2_3_in = np.ndarray((ncolumns),dtype=object)#,LIF))\n",
    "ly_4_in = np.ndarray((ncolumns),dtype=object)#,LIF))\n",
    "ly_5_in = np.ndarray((ncolumns),dtype=object)#,LIF))\n",
    "ly_6_in = np.ndarray((ncolumns),dtype=object)#,LIF))\n",
    "\n",
    "ncells = 125\n",
    "for i in range(0,ncolumns):\n",
    "    ly_2_3_ex[i] = LIF(shape=(ncells,), du=2047, dv=2047, vth=200)\n",
    "    ly_4_ex[i] = LIF(shape=(ncells,), du=2047, dv=2047, vth=200)\n",
    "    ly_5_ex[i] = LIF(shape=(ncells,), du=2047, dv=2047, vth=200)\n",
    "    ly_6_ex[i] = LIF(shape=(ncells,), du=2047, dv=2047, vth=200)\n",
    "\n",
    "\n",
    "    ly_2_3_in[i] = LIF(shape=(ncells,), du=2047, dv=2047, vth=200)\n",
    "    ly_4_in[i] = LIF(shape=(ncells,), du=2047, dv=2047, vth=200)\n",
    "    ly_5_in[i] = LIF(shape=(ncells,), du=2047, dv=2047, vth=200)\n",
    "    ly_6_in[i] = LIF(shape=(ncells,), du=2047, dv=2047, vth=200)\n",
    "\n",
    "    "
   ]
  },
  {
   "cell_type": "code",
   "execution_count": 4,
   "id": "014772d9",
   "metadata": {},
   "outputs": [],
   "source": [
    "\n",
    "connections=[]\n",
    "for i in range(0,ncolumns):\n",
    "        \n",
    "    one2onec = connect(ly_2_3_ex[i].s_out, ly_2_3_ex[i].a_in, ops=[Weights(len(ly_2_3_ex))])\n",
    "    connections.append(one2onec)\n",
    "\n",
    "    #ly_4_ex[i] 2 ly_4_ex[i]\n",
    "            \n",
    "    one2onec = connect(ly_4_ex[i].s_out, ly_4_ex[i].a_in, ops=[Weights(len(ly_2_3_ex))])\n",
    "    connections.append(one2onec)\n",
    "\n",
    "    #ly_5_ex[i] 2 ly_5_ex[i]\n",
    "    one2onec = connect(ly_5_ex[i].s_out, ly_5_ex[i].a_in, ops=[Weights(len(ly_2_3_ex))])\n",
    "    connections.append(one2onec)\n",
    "\n",
    "    #ly_6_ex[i] 2 ly_6_ex[i]\n",
    "    one2onec = connect(ly_6_ex[i].s_out, ly_6_ex[i].a_in, ops=[Weights(len(ly_2_3_ex))])\n",
    "    connections.append(one2onec)\n",
    "\n"
   ]
  },
  {
   "cell_type": "code",
   "execution_count": 5,
   "id": "abddfe9a",
   "metadata": {},
   "outputs": [],
   "source": [
    "    \n",
    "# one to one connect inhibitory layers to themselves.\n",
    "\n",
    "for i in range(0,ncolumns):\n",
    "    #ly_2_3_in[i] 2 ly_2_3_in[i]\n",
    "    one2onec = connect(ly_2_3_in[i].s_out, ly_2_3_in[i].a_in, ops=[Weights(-1.0)])\n",
    "    connections.append(one2onec)\n",
    "\n",
    "    #ly_4_in[i] 2 ly_4_in[i]\n",
    "    one2onec = connect(ly_4_in[i].s_out, ly_4_in[i].a_in, ops=[Weights(-1.0)])\n",
    "    connections.append(one2onec)\n",
    "\n",
    "    #ly_5_in[i] 2 ly_5_in[i]\n",
    "    one2onec = connect(ly_5_in[i].s_out, ly_5_in[i].a_in, ops=[Weights(-1.0)])\n",
    "    connections.append(one2onec)\n",
    "\n",
    "    #ly_6_in[i] 2 ly_6_in[i]\n",
    "    one2onec = connect(ly_6_in[i].s_out, ly_6_in[i].a_in, ops=[Weights(-1.0)])\n",
    "    connections.append(one2onec)\n",
    "\n",
    "# one to one connect inhibitory layers to exc.\n",
    "\n",
    "\n",
    "# one to one connect exc layers to inhib.\n",
    "\n",
    "for i in range(0,ncolumns):\n",
    "\n",
    "    #ly_2_3_ex[i] 2 ly_2_3_in[i]\n",
    "    one2onec = connect(ly_2_3_ex[i].s_out, ly_2_3_in[i].a_in, ops=[Weights(len(ly_2_3_ex))])\n",
    "    connections.append(one2onec)\n",
    "\n",
    "    #ly_4_ex[i] 2 ly_4_in[i]\n",
    "    one2onec = connect(ly_4_ex[i].s_out, ly_4_in[i].a_in, ops=[Weights(len(ly_2_3_ex))])\n",
    "    connections.append(one2onec)\n",
    "\n",
    "    #ly_5_ex[i] 2 ly_5_in[i]\n",
    "    one2onec = connect(ly_5_ex[i].s_out, ly_5_in[i].a_in, ops=[Weights(len(ly_2_3_ex))])\n",
    "    connections.append(one2onec)\n",
    "\n",
    "    #ly_6_ex[i] 2 ly_6_in[i]\n",
    "    one2onec = connect(ly_6_ex[i].s_out, ly_6_in[i].a_in, ops=[Weights(len(ly_2_3_ex))])\n",
    "    connections.append(one2onec)\n",
    "\n",
    "    \n",
    "for i in range(0,ncolumns):\n",
    "    #ly_2_3_in[i] 2 ly_2_3_exc[i]\n",
    "    ly_2_3_ex\n",
    "    one2onec = connect(ly_2_3_in[i].s_out, ly_2_3_ex[i].a_in, ops=[Weights(-1.0)])\n",
    "    connections.append(one2onec)\n",
    "\n",
    "    #ly_4_in[i] 2 ly_4_exc[i]\n",
    "    one2onec = connect(ly_4_in[i].s_out, ly_4_ex[i].a_in, ops=[Weights(-1.0)])\n",
    "    connections.append(one2onec)\n",
    "\n",
    "    #ly_5_in[i] 2 ly_5_exc[i]\n",
    "    one2onec = connect(ly_5_in[i].s_out, ly_5_ex[i].a_in, ops=[Weights(-1.0)])\n",
    "    connections.append(one2onec)\n",
    "    \n",
    "    #ly_6_in[i] 2 ly_6_exc[i]\n",
    "    one2onec = connect(ly_6_in[i].s_out, ly_6_ex[i].a_in, ops=[Weights(-1.0)])\n",
    "    connections.append(one2onec)\n",
    "    "
   ]
  },
  {
   "cell_type": "markdown",
   "id": "1992d9b4",
   "metadata": {},
   "source": [
    "\n",
    "\n",
    "<img src=\"Schematic-diagram-of-the-Potjans-Diesmann-cortical-microcircuit-model.png\" \n",
    "     width=\"300\" \n",
    "     height=\"350\" />\n",
    "\n"
   ]
  },
  {
   "cell_type": "code",
   "execution_count": 7,
   "id": "a592589a",
   "metadata": {},
   "outputs": [],
   "source": [
    "\n",
    "spike_generator_1 = RateCodeSpikeGen(shape=ncells,)\n",
    "#print(dir(spike_generator_1))\n",
    "#print(spike_generator_1.inter_spike_distances)\n",
    "#print(spike_generator_1.min_spike_rate)\n",
    "#print(spike_generator_1.spikes)\n",
    "\n",
    "center_cell=65\n",
    "spread_across_number_of_cells=150.0 # 125\n",
    "gauss_pattern_1 = GaussPattern(shape=ncells,\n",
    "                               amplitude=60,\n",
    "                               mean=center_cell,\n",
    "                               stddev=spread_across_number_of_cells)\n",
    "gauss_pattern_1.a_out.connect(spike_generator_1.a_in)\n",
    "# You may change parameters of the Gaussian pattern during runtime\n",
    "#gauss_pattern_1.amplitude = 50\n",
    "\n",
    "#self.spike_generator_2 = RateCodeSpikeGen(shape=shape)\n",
    "\n",
    "\n",
    "\n",
    "for i in range(0,ncolumns):\n",
    "    #print(len(ly_4_ex))\n",
    "    _=connect(spike_generator_1.s_out, ly_4_ex[i].a_in, [Weights(len(ly_4_ex))])\n",
    "    #_=connect(spike_generator_1.s_out, ly_5_ex[i].a_in, [Weights(len(ly_5_ex))])\n"
   ]
  },
  {
   "cell_type": "code",
   "execution_count": null,
   "id": "7238cde9",
   "metadata": {},
   "outputs": [],
   "source": [
    "\n"
   ]
  },
  {
   "cell_type": "code",
   "execution_count": null,
   "id": "4d7a1224",
   "metadata": {},
   "outputs": [],
   "source": []
  },
  {
   "cell_type": "code",
   "execution_count": 8,
   "id": "85476774",
   "metadata": {},
   "outputs": [
    {
     "name": "stderr",
     "output_type": "stream",
     "text": [
      "/home/user/miniconda3/lib/python3.9/site-packages/lava/proc/lif/models.py:36: RuntimeWarning: overflow encountered in multiply\n",
      "  self.u[:] = self.u * (1 - self.du)\n",
      "/home/user/miniconda3/lib/python3.9/site-packages/lava/proc/lif/models.py:36: RuntimeWarning: overflow encountered in multiply\n",
      "  self.u[:] = self.u * (1 - self.du)\n",
      "/home/user/miniconda3/lib/python3.9/site-packages/lava/proc/lif/models.py:39: RuntimeWarning: overflow encountered in multiply\n",
      "  self.v[:] = self.v * (1 - self.dv) + self.u + bias\n",
      "/home/user/miniconda3/lib/python3.9/site-packages/lava/proc/lif/models.py:39: RuntimeWarning: overflow encountered in multiply\n",
      "  self.v[:] = self.v * (1 - self.dv) + self.u + bias\n",
      "/home/user/miniconda3/lib/python3.9/site-packages/lava/proc/lif/models.py:36: RuntimeWarning: overflow encountered in multiply\n",
      "  self.u[:] = self.u * (1 - self.du)\n",
      "/home/user/miniconda3/lib/python3.9/site-packages/lava/proc/lif/models.py:36: RuntimeWarning: overflow encountered in multiply\n",
      "  self.u[:] = self.u * (1 - self.du)\n",
      "/home/user/miniconda3/lib/python3.9/site-packages/lava/proc/lif/models.py:39: RuntimeWarning: overflow encountered in multiply\n",
      "  self.v[:] = self.v * (1 - self.dv) + self.u + bias\n",
      "/home/user/miniconda3/lib/python3.9/site-packages/lava/proc/lif/models.py:39: RuntimeWarning: overflow encountered in multiply\n",
      "  self.v[:] = self.v * (1 - self.dv) + self.u + bias\n"
     ]
    }
   ],
   "source": [
    "# Set up a run configuration\n",
    "#run_cfg = Loihi1SimCfg(select_tag=\"bit_accurate_loihi\")\n",
    "\n",
    "\n",
    "\n",
    "time_steps = 250\n",
    "\n",
    "monitor_dnf = Monitor()\n",
    "monitor_dnf.probe(target=ly_4_ex[0].s_out, num_steps=time_steps)\n",
    "monitor_ly_2_3_in = Monitor()\n",
    "monitor_ly_2_3_in.probe(target=ly_2_3_in[0].s_out, num_steps=time_steps)\n",
    "\n",
    "\n",
    "monitor_input_1 = Monitor()\n",
    "monitor_input_1.probe(spike_generator_1.s_out, time_steps)\n",
    "\n",
    "#condition = RunSteps(num_steps=time_steps)\n",
    "#for i in range(0,ncolumns):\n",
    "ly_4_ex[0].amplitude = 10000\n",
    "ly_4_ex[0].run(condition=RunSteps(num_steps=time_steps),\n",
    "        run_cfg=Loihi1SimCfg(select_tag='floating_pt'))\n",
    "ly_2_3_in[0].amplitude = 10000\n",
    "ly_2_3_in[0].run(condition=RunSteps(num_steps=time_steps),\n",
    "        run_cfg=Loihi1SimCfg(select_tag='floating_pt'))\n",
    "#ly_5_ex[1].amplitude = 10000\n",
    "#ly_5_in[1].run(condition=RunSteps(num_steps=time_steps),\n",
    "#        run_cfg=Loihi1SimCfg(select_tag='floating_pt'))\n",
    "#run(condition=condition, run_cfg=run_cfg)\n",
    "\n",
    "\n"
   ]
  },
  {
   "cell_type": "code",
   "execution_count": 9,
   "id": "d256ca00",
   "metadata": {},
   "outputs": [
    {
     "data": {
      "image/png": "[encoded data removed]",
      "text/plain": [
       "<Figure size 432x288 with 1 Axes>"
      ]
     },
     "metadata": {
      "needs_background": "light"
     },
     "output_type": "display_data"
    }
   ],
   "source": [
    "# Get probed data from monitors\n",
    "\n",
    "#from utils import plot_1d, animated_1d_plot\n",
    "data_dnf = monitor_dnf.get_data()\\\n",
    "    [ly_4_ex[0].name][ly_4_ex[0].s_out.name]\n",
    "\n",
    "data_input1 = monitor_input_1.get_data()\\\n",
    "    [spike_generator_1.name][spike_generator_1.s_out.name]\n",
    "#print(data_input1)\n",
    "#print(np.std(data_dnf))\n",
    "#print(np.std(data_input1))\n",
    "\n",
    "#print(monitor_dnf.get_data())\n",
    "#print(monitor_input_1.get_data())\n",
    "from lava.lib.dnf.utils.plotting import raster_plot\n",
    "\n",
    "raster_plot(data_dnf.T)\n",
    "\n"
   ]
  },
  {
   "cell_type": "code",
   "execution_count": 10,
   "id": "41b2c241",
   "metadata": {},
   "outputs": [
    {
     "data": {
      "image/png": "[encoded data removed]",
      "text/plain": [
       "<Figure size 432x288 with 1 Axes>"
      ]
     },
     "metadata": {
      "needs_background": "light"
     },
     "output_type": "display_data"
    }
   ],
   "source": [
    "#monitor_ly_2_3_in\n",
    "\n",
    "#data_ly_2_3_in = monitor_ly_2_3_in.get_data()\n",
    "    \n",
    "#print(data_ly_2_3_in['Process_4']['s_out'])\n",
    "data_ly_2_3_in = monitor_ly_2_3_in.get_data()\n",
    "#print(data_ly_2_3_in)\n",
    "#print(ly_2_3_in[0].name)\n",
    "data_ly_2_3_in = monitor_ly_2_3_in.get_data()\\\n",
    "    [ly_2_3_in[0].name][ly_2_3_in[0].s_out.name]\n",
    "raster_plot(data_ly_2_3_in.T)\n"
   ]
  },
  {
   "cell_type": "code",
   "execution_count": 11,
   "id": "cca8a012",
   "metadata": {},
   "outputs": [
    {
     "name": "stdout",
     "output_type": "stream",
     "text": [
      "0.4138202233734945\n"
     ]
    },
    {
     "data": {
      "image/png": "[encoded data removed]",
      "text/plain": [
       "<Figure size 432x288 with 1 Axes>"
      ]
     },
     "metadata": {
      "needs_background": "light"
     },
     "output_type": "display_data"
    }
   ],
   "source": [
    "print(np.std(data_dnf))\n",
    "\n",
    "raster_plot(data_input1.T)\n",
    "\n"
   ]
  },
  {
   "cell_type": "code",
   "execution_count": 12,
   "id": "7f07b525",
   "metadata": {},
   "outputs": [
    {
     "name": "stdout",
     "output_type": "stream",
     "text": [
      "0.21937066666666666\n",
      "41132.0\n",
      "41132\n",
      "1500\n"
     ]
    }
   ],
   "source": [
    "print(np.mean(data_dnf))\n",
    "print(np.sum(data_dnf))\n",
    "print(len(data_dnf[data_dnf!=0]))\n",
    "print(len(data_dnf[2]))\n"
   ]
  },
  {
   "cell_type": "code",
   "execution_count": 13,
   "id": "a34968c7",
   "metadata": {},
   "outputs": [
    {
     "name": "stdout",
     "output_type": "stream",
     "text": [
      "<memory at 0x7fafbd9a2040>\n"
     ]
    }
   ],
   "source": [
    "#for i in data_dnf: print(i)\n",
    "print(data_dnf.data)    \n",
    "    "
   ]
  },
  {
   "cell_type": "code",
   "execution_count": null,
   "id": "002f9255",
   "metadata": {},
   "outputs": [],
   "source": []
  }
 ],
 "metadata": {
  "kernelspec": {
   "display_name": "Python 3",
   "language": "python",
   "name": "python3"
  },
  "language_info": {
   "codemirror_mode": {
    "name": "ipython",
    "version": 3
   },
   "file_extension": ".py",
   "mimetype": "text/x-python",
   "name": "python",
   "nbconvert_exporter": "python",
   "pygments_lexer": "ipython3",
   "version": "3.9.5"
  }
 },
 "nbformat": 4,
 "nbformat_minor": 5
}
