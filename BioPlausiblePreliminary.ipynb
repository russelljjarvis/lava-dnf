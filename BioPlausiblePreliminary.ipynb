{
 "cells": [
  {
   "cell_type": "markdown",
   "id": "0d90ac39",
   "metadata": {},
   "source": [
    "\n",
    "<h1 align=\"center\">\n",
    "  Lava, Lava-DNF and the Loihi Software Ecosystem\n",
    "\n",
    "</h1>\n",
    "\n",
    "## Software Ecosystem:\n",
    "\n",
    "### The relationship between Magma and Lava\n",
    "\n",
    "<h1 align=\"center\">\n",
    "<img src=\"magma_versus_lava.png\" \n",
    "     width=\"200\" \n",
    "     height=\"250\" />\n",
    "</h1>\n",
    "\n",
    "\n",
    "### Lava Magma follows a composable coding paradigm.\n",
    "* Lava architecture \"is inspired from the Communicating Sequential Process (CSP) paradigm for asynchronous, parallel systems that interact via message passing.\" -- Qoute from Lava README.md\n",
    "\n",
    "### Since Lava is \"composable\", in theory these older Loihi coding paradigms should be interopable:\n",
    "* Intel: NxSDK Also known as the Loihi Neurocore API\n",
    "* SNIPS C code.\n",
    "* \"The specific components of Magma needed to compile processes specifically to Intel Loihi chips remains proprietary to Intel and is not provided through this GitHub site (see below). Similar Magma-layer code for other future commercial neuromorphic platforms likely will also remain proprietary.\" -- Qoute from Lava README.md\n",
    "\n",
    "* Warning, this NB needs Python-3.8 minimum\n"
   ]
  },
  {
   "cell_type": "markdown",
   "id": "4ba644e3",
   "metadata": {},
   "source": [
    "## Loihi\n",
    "\n",
    "<h1 align=\"center\">\n",
    "<img src=\"loihi_diagram.png\" \n",
    "     width=\"300\" \n",
    "     height=\"450\" />\n",
    "</h1>\n",
    "     \n",
    "     \n",
    "### Lava Dynamic Neural Fields Lava-DNF \n",
    "* DNF is the subset of the Lava paradigm that has a lot of useful patterns for specifying biological connectivity. \n",
    "* https://github.com/lava-nc/lava-dnf\n"
   ]
  },
  {
   "cell_type": "markdown",
   "id": "d50cb260",
   "metadata": {},
   "source": [
    "# Usefulness of Lava-DNF for large scale biological modelling work\n",
    "\n",
    "#### What we want from an interface\n",
    "\n",
    "- [x] Means to specify forwards connectivity between populations.\n",
    "- [x] Means to specify recurrent connectivity between populations.\n",
    "- [x] Ability to define LIF Cell populations.\n",
    "- [x] Inhibitory Synapses (negative weight values possible)\n",
    "- [x] Capacity to support high cell counts.\n",
    "- [ ] Ability to visualize the whole architecture (nothing like TorchViz for ANN architecture yet).\n",
    "- [ ] Spike Timing Dependent Plasticity (STDP), or on chip local learning rules (coming).  \n",
    "- [ ] Delay Learning (probably not even planned)\n",
    "- [ ] Adaptive Neurons (supported by SLAYER allegedly composable)\n",
    "- [ ] performance profiling (including power consumption). (coming)\n"
   ]
  },
  {
   "cell_type": "markdown",
   "id": "1992d9b4",
   "metadata": {
    "slideshow": {
     "slide_type": "slide"
    }
   },
   "source": [
    "\n",
    "<h1 align=\"center\">\n",
    "  To show how I established the tick box above a Lava-DNF code demonstration follows.\n",
    "</h1>\n",
    "\n",
    "\n",
    "To evaluate whether Lava is useful for making bioplausible models, we want to define a variety of overlapping Spiking Neural Network (SNN) architectures, you can think of each one as a weighted directed graph: \n",
    "\n",
    "<h1 align=\"center\">\n",
    " $G(V, E)$\n",
    "</h1>\n",
    "\n",
    "Below is a diagram of the Potjan's cortical model. This model can be thought of as the composition of many weighted directed graphs, therefore we will use Lava a supported interface to instantiate a cortical model of V1 on a Python Loihi simulator.\n",
    "\n",
    "<h1 align=\"center\">\n",
    "\n",
    "<img src=\"Schematic-diagram-of-the-Potjans-Diesmann-cortical-microcircuit-model.png\" \n",
    "     width=\"300\" \n",
    "     height=\"350\" />\n",
    "</h1>\n",
    "\n"
   ]
  },
  {
   "cell_type": "markdown",
   "id": "9234f2f8",
   "metadata": {
    "slideshow": {
     "slide_type": "slide"
    }
   },
   "source": [
    "## Import relevant modules."
   ]
  },
  {
   "cell_type": "code",
   "execution_count": 1,
   "id": "80940b82",
   "metadata": {
    "slideshow": {
     "slide_type": "subslide"
    }
   },
   "outputs": [],
   "source": [
    "from lava.lib.dnf.operations.operations import Weights\n",
    "from lava.lib.dnf.operations.operations import *\n",
    "from lava.proc.lif.process import LIF\n",
    "from lava.lib.dnf.inputs.rate_code_spike_gen.process import RateCodeSpikeGen\n",
    "from lava.lib.dnf.connect.connect import connect\n",
    "from lava.lib.dnf.operations.operations import Weights\n",
    "from lava.magma.core.run_configs import Loihi1SimCfg #Loihi simulator, not  Loihi itself.\n",
    "from lava.magma.core.run_conditions import RunSteps\n",
    "from lava.proc.monitor.process import Monitor\n",
    "from lava.proc.monitor.models import PyMonitorModel\n",
    "from lava.lib.dnf.inputs.gauss_pattern.process import GaussPattern\n",
    "from lava.lib.dnf.kernels.kernels import MultiPeakKernel\n",
    "from lava.lib.dnf.utils.plotting import raster_plot\n",
    "\n",
    "import numpy as np\n"
   ]
  },
  {
   "cell_type": "markdown",
   "id": "60bc3116",
   "metadata": {
    "slideshow": {
     "slide_type": "slide"
    }
   },
   "source": [
    "# Cortical Specification:\n",
    "### These numbers are nominal. \n",
    "* I chose the following numbers to fit the performance of a resource limited laptop\n",
    "* 2 columns.\n",
    "* 4 layers\n",
    "* 1 excitatory and 1 inhibitory population per layer.\n",
    "* 85 cells per population 170 cells per layer."
   ]
  },
  {
   "cell_type": "code",
   "execution_count": 2,
   "id": "3e4fb903",
   "metadata": {
    "slideshow": {
     "slide_type": "slide"
    }
   },
   "outputs": [],
   "source": [
    "\n",
    "ncolumns=2\n"
   ]
  },
  {
   "cell_type": "markdown",
   "id": "951d0f76",
   "metadata": {
    "slideshow": {
     "slide_type": "subslide"
    }
   },
   "source": [
    "\n",
    "### Create layerwise cell populations "
   ]
  },
  {
   "cell_type": "code",
   "execution_count": 3,
   "id": "e6cb0210",
   "metadata": {
    "slideshow": {
     "slide_type": "subslide"
    }
   },
   "outputs": [],
   "source": [
    "# Ex excitatory\n",
    "ly_2_3_ex = np.ndarray((ncolumns),dtype=object)\n",
    "ly_4_ex = np.ndarray((ncolumns),dtype=object)\n",
    "ly_5_ex = np.ndarray((ncolumns),dtype=object)\n",
    "ly_6_ex = np.ndarray((ncolumns),dtype=object)\n",
    "\n",
    "# In inhibitory\n",
    "ly_2_3_in = np.ndarray((ncolumns),dtype=object)\n",
    "ly_4_in = np.ndarray((ncolumns),dtype=object)\n",
    "ly_5_in = np.ndarray((ncolumns),dtype=object)\n",
    "ly_6_in = np.ndarray((ncolumns),dtype=object)\n",
    "\n",
    "ncells = 85\n",
    "for i in range(0,ncolumns):\n",
    "    ly_2_3_ex[i] = LIF(shape=(ncells,))\n",
    "    ly_4_ex[i] = LIF(shape=(ncells,))\n",
    "    ly_5_ex[i] = LIF(shape=(ncells,))\n",
    "    ly_6_ex[i] = LIF(shape=(ncells,))\n",
    "\n",
    "\n",
    "    ly_2_3_in[i] = LIF(shape=(ncells,))\n",
    "    ly_4_in[i] = LIF(shape=(ncells,))\n",
    "    ly_5_in[i] = LIF(shape=(ncells,))\n",
    "    ly_6_in[i] = LIF(shape=(ncells,))\n",
    "\n",
    "    "
   ]
  },
  {
   "cell_type": "markdown",
   "id": "cf8848b6",
   "metadata": {
    "slideshow": {
     "slide_type": "subslide"
    }
   },
   "source": [
    "<h1 align=\"center\"> Create the connectivity pattern </h1>\n",
    "<h4 align=\"center\"> \n",
    "* Repeated and stereotyped connections whithin and between layers:\n",
    "</h4>\n",
    "<!--\n",
    "\n",
    "<h1 align=\"center\">\n",
    "    <img src=\"Schematic-diagram-of-the-Potjans-Diesmann-cortical-microcircuit-model.png\" \n",
    "         width=\"300\" \n",
    "         height=\"350\" />\n",
    "</h1>\n",
    "\n",
    "* from the Potjan's wiring diagram\n",
    "researchgate.net/figure/Schematic-diagram-of-the-Potjans-Diesmann-cortical-microcircuit-model_fig1_349443713\n",
    "\n",
    "-->"
   ]
  },
  {
   "cell_type": "code",
   "execution_count": 4,
   "id": "014772d9",
   "metadata": {
    "slideshow": {
     "slide_type": "slide"
    }
   },
   "outputs": [],
   "source": [
    "\n",
    "connections=[]\n",
    "# recurrent\n",
    "for i in range(0,ncolumns):\n",
    "    #ly_2_3_ex[i] 2 ly_2_3_ex[i]\n",
    "    one2onec = connect(ly_2_3_ex[i].s_out, ly_2_3_ex[i].a_in, ops=[Weights(1.0)])\n",
    "    connections.append(one2onec)\n",
    "\n",
    "    #ly_4_ex[i] 2 ly_4_ex[i]            \n",
    "    one2onec = connect(ly_4_ex[i].s_out, ly_4_ex[i].a_in, ops=[Weights(1.0)])\n",
    "    connections.append(one2onec)\n",
    "\n",
    "    #ly_5_ex[i] 2 ly_5_ex[i]\n",
    "    one2onec = connect(ly_5_ex[i].s_out, ly_5_ex[i].a_in, ops=[Weights(1.0)])\n",
    "    connections.append(one2onec)\n",
    "\n",
    "    #ly_6_ex[i] 2 ly_6_ex[i]\n",
    "    one2onec = connect(ly_6_ex[i].s_out, ly_6_ex[i].a_in, ops=[Weights(1.0)])\n",
    "    connections.append(one2onec)\n",
    "\n"
   ]
  },
  {
   "cell_type": "code",
   "execution_count": 5,
   "id": "abddfe9a",
   "metadata": {
    "slideshow": {
     "slide_type": "skip"
    }
   },
   "outputs": [],
   "source": [
    "for i in range(0,ncolumns):\n",
    "    #ly_2_3_in[i] 2 ly_2_3_in[i]\n",
    "    one2onec = connect(ly_2_3_in[i].s_out, ly_2_3_in[i].a_in, ops=[Weights(-0.5)])\n",
    "    connections.append(one2onec)\n",
    "\n",
    "    #ly_4_in[i] 2 ly_4_in[i]\n",
    "    one2onec = connect(ly_4_in[i].s_out, ly_4_in[i].a_in, ops=[Weights(-0.5)])\n",
    "    connections.append(one2onec)\n",
    "\n",
    "    #ly_5_in[i] 2 ly_5_in[i]\n",
    "    one2onec = connect(ly_5_in[i].s_out, ly_5_in[i].a_in, ops=[Weights(-0.5)])\n",
    "    connections.append(one2onec)\n",
    "\n",
    "    #ly_6_in[i] 2 ly_6_in[i]\n",
    "    one2onec = connect(ly_6_in[i].s_out, ly_6_in[i].a_in, ops=[Weights(-0.5)])\n",
    "    connections.append(one2onec)\n",
    "\n",
    "for i in range(0,ncolumns):\n",
    "\n",
    "    #ly_2_3_ex[i] 2 ly_2_3_in[i]\n",
    "    one2onec = connect(ly_2_3_ex[i].s_out, ly_2_3_in[i].a_in, ops=[Weights(1.0)])\n",
    "    connections.append(one2onec)\n",
    "\n",
    "    #ly_4_ex[i] 2 ly_4_in[i]\n",
    "    one2onec = connect(ly_4_ex[i].s_out, ly_4_in[i].a_in, ops=[Weights(1.0)])\n",
    "    connections.append(one2onec)\n",
    "\n",
    "    #ly_5_ex[i] 2 ly_5_in[i]\n",
    "    one2onec = connect(ly_5_ex[i].s_out, ly_5_in[i].a_in, ops=[Weights(1.0)])\n",
    "    connections.append(one2onec)\n",
    "\n",
    "    #ly_6_ex[i] 2 ly_6_in[i]\n",
    "    one2onec = connect(ly_6_ex[i].s_out, ly_6_in[i].a_in, ops=[Weights(1.0)])\n",
    "    connections.append(one2onec)\n",
    "\n",
    "for i in range(0,ncolumns):\n",
    "    #ly_2_3_in[i] 2 ly_2_3_exc[i]\n",
    "    # ly_2_3_ex\n",
    "    one2onec = connect(ly_2_3_in[i].s_out, ly_2_3_ex[i].a_in, ops=[Weights(-1.0)])\n",
    "    connections.append(one2onec)\n",
    "\n",
    "    #ly_4_in[i] 2 ly_4_exc[i]\n",
    "    one2onec = connect(ly_4_in[i].s_out, ly_4_ex[i].a_in, ops=[Weights(-1.0)])\n",
    "    connections.append(one2onec)\n",
    "\n",
    "    #ly_5_in[i] 2 ly_5_exc[i]\n",
    "    one2onec = connect(ly_5_in[i].s_out, ly_5_ex[i].a_in, ops=[Weights(-1.0)])\n",
    "    connections.append(one2onec)\n",
    "    \n",
    "    #ly_6_in[i] 2 ly_6_exc[i]\n",
    "    one2onec = connect(ly_6_in[i].s_out, ly_6_ex[i].a_in, ops=[Weights(-1.0)])\n",
    "    connections.append(one2onec)\n"
   ]
  },
  {
   "cell_type": "markdown",
   "id": "be445794",
   "metadata": {
    "slideshow": {
     "slide_type": "slide"
    }
   },
   "source": [
    "### Very specific connections between layer connections:"
   ]
  },
  {
   "cell_type": "code",
   "execution_count": 6,
   "id": "80fce921",
   "metadata": {
    "slideshow": {
     "slide_type": "subslide"
    }
   },
   "outputs": [],
   "source": [
    "for i in range(0,ncolumns):\n",
    "    one2onec = connect(ly_2_3_ex[i].s_out, ly_5_ex[i].s_out, ops=[Weights(1.0)])\n",
    "    connections.append(one2onec)\n",
    "\n",
    "    one2onec = connect(ly_2_3_ex[i].s_out, ly_4_in[i].a_in, ops=[Weights(1.0)])\n",
    "    connections.append(one2onec)\n",
    "\n",
    "    one2onec = connect(ly_2_3_ex[i].s_out, ly_5_in[i].a_in, ops=[Weights(1.0)])\n",
    "    connections.append(one2onec)\n"
   ]
  },
  {
   "cell_type": "code",
   "execution_count": 7,
   "id": "dcf74abb",
   "metadata": {
    "slideshow": {
     "slide_type": "skip"
    }
   },
   "outputs": [],
   "source": [
    "for i in range(0,ncolumns):\n",
    "\n",
    "    one2onec = connect(ly_5_ex[i].s_out, ly_4_in[i].a_in, ops=[Weights(1.0)])\n",
    "    connections.append(one2onec)\n",
    "\n",
    "    one2onec = connect(ly_6_ex[i].s_out, ly_4_ex[i].a_in, ops=[Weights(1.0)])\n",
    "    connections.append(one2onec)\n",
    "\n",
    "    one2onec = connect(ly_6_ex[i].s_out, ly_2_3_in[i].a_in, ops=[Weights(1.0)])\n",
    "    connections.append(one2onec)\n"
   ]
  },
  {
   "cell_type": "code",
   "execution_count": 8,
   "id": "0ad56b77",
   "metadata": {
    "slideshow": {
     "slide_type": "skip"
    }
   },
   "outputs": [],
   "source": [
    "\n",
    "for i in range(0,ncolumns):\n",
    "\n",
    "    one2onec = connect(ly_2_3_ex[i].s_out, ly_2_3_in[i].a_in, ops=[Weights(-0.5)])\n",
    "    connections.append(one2onec)"
   ]
  },
  {
   "cell_type": "code",
   "execution_count": 9,
   "id": "16411c7c",
   "metadata": {
    "slideshow": {
     "slide_type": "skip"
    }
   },
   "outputs": [],
   "source": [
    "for i in range(0,ncolumns):\n",
    "\n",
    "    one2onec = connect(ly_4_ex[i].s_out, ly_2_3_ex[i].s_out, ops=[Weights(1.0)])\n",
    "    connections.append(one2onec)\n",
    "\n",
    "    one2onec = connect(ly_4_ex[i].s_out, ly_5_ex[i].a_in, ops=[Weights(1.0)])\n",
    "    connections.append(one2onec)\n",
    "\n",
    "    one2onec = connect(ly_5_ex[i].s_out, ly_6_ex[i].a_in, ops=[Weights(1.0)])\n",
    "    connections.append(one2onec)"
   ]
  },
  {
   "cell_type": "markdown",
   "id": "ade59b89",
   "metadata": {
    "slideshow": {
     "slide_type": "slide"
    }
   },
   "source": [
    "Specify a direct connection between each of the two columns as a demonstration only\n",
    "layer 2-3 of Column2 (index 1) gets no tonic input, its input is just the output of column 1 (index 0)\n",
    "ly_2_3_ex[1]\n"
   ]
  },
  {
   "cell_type": "code",
   "execution_count": 10,
   "id": "fd347877",
   "metadata": {
    "slideshow": {
     "slide_type": "subslide"
    }
   },
   "outputs": [],
   "source": [
    "one2onec = connect(ly_2_3_ex[0].s_out, ly_2_3_ex[1].s_out, ops=[Weights(5.0)])\n",
    "connections.append(one2onec)"
   ]
  },
  {
   "cell_type": "markdown",
   "id": "fcb35478",
   "metadata": {
    "slideshow": {
     "slide_type": "subslide"
    }
   },
   "source": [
    "* Despite the elaborate wiring instructions. The wiring itself is still flawed.\n",
    "* Currently the network has no convergence or divergence between or across layers, so its not so much a network, and more of a series of parallel feedforward lines, like in the figure below:\n",
    "\n",
    "<h1 align=\"center\">\n",
    "    <img src=\"one_to_one_connectivity.png\" \n",
    "         width=\"90\" \n",
    "         height=\"40\"/>\n",
    "</h1>\n",
    "\n",
    "# TODO:\n",
    "\n",
    "- [ ] Use the OSB PyNN model to wire layer to layer connections with established probabilities from Potjan's.\n",
    "https://github.com/NeuralEnsemble/PyNN/blob/master/examples/Potjans2014/network.py\n",
    "\n",
    "\n"
   ]
  },
  {
   "cell_type": "markdown",
   "id": "aa8bdd56",
   "metadata": {
    "slideshow": {
     "slide_type": "slide"
    }
   },
   "source": [
    "# Create tonic input for the network."
   ]
  },
  {
   "cell_type": "code",
   "execution_count": 11,
   "id": "a592589a",
   "metadata": {
    "slideshow": {
     "slide_type": "subslide"
    }
   },
   "outputs": [],
   "source": [
    "spike_generator_1 = RateCodeSpikeGen(shape=ncells,)\n",
    "center_cell=ncells/2.0\n",
    "spread_across_number_of_cells=ncells \n",
    "gauss_pattern_1 = GaussPattern(shape=ncells,\n",
    "                               amplitude=100,\n",
    "                               mean=center_cell,\n",
    "                               stddev=spread_across_number_of_cells)\n",
    "gauss_pattern_1.a_out.connect(spike_generator_1.a_in)\n",
    "\n",
    "for i in range(0,ncolumns):\n",
    "    _=connect(spike_generator_1.s_out, ly_4_ex[i].a_in, [Weights(2.5)])\n"
   ]
  },
  {
   "cell_type": "markdown",
   "id": "816a21b5",
   "metadata": {
    "slideshow": {
     "slide_type": "subslide"
    }
   },
   "source": [
    "# Run the preliminary Potjans model on CPU for 50ms\n",
    "\n",
    "Strangely you only have to run a segment of the model to run the whole model.\n",
    "\n",
    "Model segments seem to have parent child relationships with other segments if they are connected with network connections, and the Loihi compiler seems to understand that."
   ]
  },
  {
   "cell_type": "markdown",
   "id": "c7f4bc94",
   "metadata": {
    "slideshow": {
     "slide_type": "slide"
    }
   },
   "source": [
    "# Set up the experimental recording rig"
   ]
  },
  {
   "cell_type": "code",
   "execution_count": 12,
   "id": "85476774",
   "metadata": {
    "slideshow": {
     "slide_type": "subslide"
    }
   },
   "outputs": [],
   "source": [
    "\n",
    "time_steps = 50\n",
    "\n",
    "monitor_ly_2_3_ex = Monitor()\n",
    "monitor_ly_2_3_ex.probe(target=ly_2_3_ex[0].s_out, num_steps=time_steps)\n",
    "monitor_ly_2_3_in = Monitor()\n",
    "monitor_ly_2_3_in.probe(target=ly_2_3_in[0].s_out, num_steps=time_steps)\n",
    "monitor_ly_4_ex = Monitor()\n",
    "monitor_ly_4_ex.probe(target=ly_4_ex[0].s_out, num_steps=time_steps)\n",
    "monitor_input_1 = Monitor()\n",
    "monitor_input_1.probe(spike_generator_1.s_out, time_steps)\n",
    "other_column = Monitor()\n",
    "other_column.probe(ly_2_3_ex[1].s_out, time_steps)\n",
    "\n",
    "\n",
    "\n",
    "ly_4_ex[0].amplitude = 100\n",
    "ly_4_ex[0].run(condition=RunSteps(num_steps=time_steps),\n",
    "        run_cfg=Loihi1SimCfg(select_tag='floating_pt'))\n",
    "\n",
    "\n"
   ]
  },
  {
   "cell_type": "markdown",
   "id": "25d31ce5",
   "metadata": {
    "slideshow": {
     "slide_type": "slide"
    }
   },
   "source": [
    "# Get probed data from monitors\n"
   ]
  },
  {
   "cell_type": "code",
   "execution_count": 13,
   "id": "d256ca00",
   "metadata": {
    "slideshow": {
     "slide_type": "subslide"
    }
   },
   "outputs": [],
   "source": [
    "\n",
    "data_input1 = monitor_input_1.get_data()\\\n",
    "    [spike_generator_1.name][spike_generator_1.s_out.name]\n",
    "\n",
    "data_ly_2_3_ex = monitor_ly_2_3_ex.get_data()\\\n",
    "    [ly_2_3_ex[0].name][ly_2_3_ex[0].s_out.name]\n",
    "\n",
    "data_ly_2_3_in = monitor_ly_2_3_in.get_data()\\\n",
    "    [ly_2_3_in[0].name][ly_2_3_in[0].s_out.name]\n",
    "\n",
    "\n",
    "data_ly_4_ex = monitor_ly_4_ex.get_data()\\\n",
    "    [ly_4_ex[0].name][ly_4_ex[0].s_out.name]\n",
    "\n"
   ]
  },
  {
   "cell_type": "markdown",
   "id": "53c0c9c6",
   "metadata": {},
   "source": [
    "### Plot the Spiking Data"
   ]
  },
  {
   "cell_type": "code",
   "execution_count": 14,
   "id": "71754f4e",
   "metadata": {},
   "outputs": [
    {
     "data": {
      "image/png": "[encoded data removed]",
      "text/plain": [
       "<Figure size 432x288 with 1 Axes>"
      ]
     },
     "metadata": {
      "needs_background": "light"
     },
     "output_type": "display_data"
    }
   ],
   "source": [
    "\n",
    "\n",
    "\n",
    "raster_plot(data_ly_2_3_ex.T)\n"
   ]
  },
  {
   "cell_type": "code",
   "execution_count": 15,
   "id": "cfc58f41",
   "metadata": {
    "slideshow": {
     "slide_type": "subslide"
    }
   },
   "outputs": [
    {
     "data": {
      "image/png": "[encoded data removed]",
      "text/plain": [
       "<Figure size 432x288 with 1 Axes>"
      ]
     },
     "metadata": {
      "needs_background": "light"
     },
     "output_type": "display_data"
    }
   ],
   "source": [
    "\n",
    "raster_plot(data_ly_4_ex.T)\n"
   ]
  },
  {
   "cell_type": "code",
   "execution_count": 16,
   "id": "f7f5f955",
   "metadata": {
    "slideshow": {
     "slide_type": "subslide"
    }
   },
   "outputs": [
    {
     "data": {
      "image/png": "[encoded data removed]",
      "text/plain": [
       "<Figure size 432x288 with 1 Axes>"
      ]
     },
     "metadata": {
      "needs_background": "light"
     },
     "output_type": "display_data"
    }
   ],
   "source": [
    "raster_plot(data_ly_2_3_in.T)\n"
   ]
  },
  {
   "cell_type": "code",
   "execution_count": 17,
   "id": "3404b077",
   "metadata": {
    "slideshow": {
     "slide_type": "subslide"
    }
   },
   "outputs": [
    {
     "data": {
      "image/png": "[encoded data removed]",
      "text/plain": [
       "<Figure size 432x288 with 1 Axes>"
      ]
     },
     "metadata": {
      "needs_background": "light"
     },
     "output_type": "display_data"
    }
   ],
   "source": [
    "raster_plot(data_ly_2_3_ex.T)"
   ]
  },
  {
   "cell_type": "code",
   "execution_count": 18,
   "id": "639a31c5",
   "metadata": {
    "slideshow": {
     "slide_type": "subslide"
    }
   },
   "outputs": [
    {
     "data": {
      "image/png": "[encoded data removed]",
      "text/plain": [
       "<Figure size 432x288 with 1 Axes>"
      ]
     },
     "metadata": {
      "needs_background": "light"
     },
     "output_type": "display_data"
    }
   ],
   "source": [
    "\n",
    "raster_plot(data_input1.T)\n",
    "\n"
   ]
  },
  {
   "cell_type": "markdown",
   "id": "f7b523a9",
   "metadata": {
    "slideshow": {
     "slide_type": "skip"
    }
   },
   "source": [
    "* Check to see spiking activity propogated from one column to the other via a dedicated connection"
   ]
  },
  {
   "cell_type": "code",
   "execution_count": 19,
   "id": "4a2c3550",
   "metadata": {
    "slideshow": {
     "slide_type": "skip"
    }
   },
   "outputs": [
    {
     "data": {
      "image/png": "[encoded data removed]",
      "text/plain": [
       "<Figure size 432x288 with 1 Axes>"
      ]
     },
     "metadata": {
      "needs_background": "light"
     },
     "output_type": "display_data"
    }
   ],
   "source": [
    "data_ly_2_3_ex = other_column.get_data()\\\n",
    "    [ly_2_3_ex[1].name][ly_2_3_ex[1].s_out.name]\n",
    "\n",
    "\n",
    "raster_plot(data_ly_2_3_ex.T)\n"
   ]
  },
  {
   "cell_type": "markdown",
   "id": "ece17ea5",
   "metadata": {
    "slideshow": {
     "slide_type": "slide"
    }
   },
   "source": [
    "### My verdict the overall approach works for some things but not others.\n",
    "\n",
    "- [x] Fan in and fan out achievable with connection kernels.\n",
    "- [x] Mexican hat weight distributions (lateral inhibition) can be coded.\n",
    "- [x] Means to specify forwards connectivity between populations.\n",
    "- [x] Means to specify recurrent connectivity between populations.\n",
    "- [x] Ability to define LIF Cell populations.\n",
    "- [x] Inhibitory Synapses (negative weight values possible)\n",
    "- [x] Capacity to support high cell counts.\n",
    "\n",
    "### Missing\n",
    "- [ ] Although Lava is advertised as composable (interopable with external code) it's unlikely that an arbitrary model of STDP can be translated through the Loihi compiler.\n",
    "- [ ] It's not clear how composable the LAVA approach is with NxSDK and SNIPs (without breaking Loihi compilation).\n",
    "- [ ] Loihi compilation is still intentionally opaque (proprietary code).\n",
    "- [ ] Ability to visualize the whole architecture (nothing like TorchViz for ANN architecture yet).\n",
    "- [ ] Delay Learning (probably not even planned)\n",
    "- [ ] performance profiling (including power consumption). (coming)\n",
    "- [ ] No synaptic learning capability yet. \n",
    "    \n",
    "    *... and It's not clear how to hack STDP in.\n",
    "\n",
    "\n"
   ]
  },
  {
   "cell_type": "code",
   "execution_count": null,
   "id": "16b19dd2",
   "metadata": {},
   "outputs": [],
   "source": []
  }
 ],
 "metadata": {
  "celltoolbar": "Slideshow",
  "kernelspec": {
   "display_name": "Python 3",
   "language": "python",
   "name": "python3"
  },
  "language_info": {
   "codemirror_mode": {
    "name": "ipython",
    "version": 3
   },
   "file_extension": ".py",
   "mimetype": "text/x-python",
   "name": "python",
   "nbconvert_exporter": "python",
   "pygments_lexer": "ipython3",
   "version": "3.9.5"
  }
 },
 "nbformat": 4,
 "nbformat_minor": 5
}
