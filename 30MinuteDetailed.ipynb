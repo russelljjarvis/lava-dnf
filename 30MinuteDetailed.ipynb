{
 "cells": [
  {
   "cell_type": "markdown",
   "id": "dfb1e657",
   "metadata": {},
   "source": [
    "\n",
    "<h1 align=\"center\">\n",
    "Semi-Detailed Update + Opinion Seeking Plan Document\n",
    "</h1>\n",
    "\n",
    "* True to form detailed update --No.\n",
    "* A kind of planning document, with questions for people in the know -- Yes.\n"
   ]
  },
  {
   "cell_type": "markdown",
   "id": "e1860abf",
   "metadata": {},
   "source": [
    "* I started postdoc around the 2nd-3rd of February. 12 April (a bit more than 2 months). \n",
    "\n",
    "# Position Description (apparently not a super serious contract).\n",
    "\n",
    "<!--Develop a neuromorphic interface using Julia+Python [possible]\n",
    "- found appropriate connectomes\n",
    "- Done exploratory work in Lava (a new Intel supported Loihi interface)\n",
    "Develop novel event based learning algorithms for acting on spatio-temporal sensory data.\n",
    "- Trying to improve Odesa.jl \n",
    "Use the interface to solve visual tracking and tempo spatial sequence classification problem.\n",
    "- No\n",
    "Implement a model of cortical neural processing on neuromorphic hardware using the above interface.\n",
    "- No\n",
    "Teaching, Developing course work [x]\n",
    "Researching and Collaboration. []\n",
    "Grant Writing. [No]\n",
    "Co-supervision honors/post-grad (joined HDR) []\n",
    "\n",
    "\n",
    "\n",
    "\n",
    "| <h1> Position Description  </h1> | \n",
    "| ------------- |\n",
    "| - [ ] Develop a neuromorphic interface using Julia+Python  |\n",
    "| col 2 is      |\n",
    "| zebra stripes |\n",
    "| <ul><li>item1</li><li>item2</li></ul>| \n",
    "# Position Description (apparently not a super serious contract).\n",
    "\n",
    "-->\n",
    "\n",
    "\n",
    "- [x] Teaching, Developing course work\n",
    "- [ ] Develop a neuromorphic interface using Julia+Python **(more on this)**\n",
    "- [ ] Develop novel event based learning algorithms for acting on spatio-temporal sensory data **(more on this)**\n",
    "- [ ] Co-supervision honors/post-grad **(admitted to HDR recently)**\n",
    "- [ ] Implement a model of cortical neural processing on neuromorphic hardware using the above interface **(more on this)**\n",
    "- [ ] Develop novel event based learning algorithms for acting on spatio-temporal sensory data **I have been looking into improving Odessa.jl**\n",
    "- [ ] Researching and Collaboration\n",
    "- [ ] Grant Writing\n"
   ]
  },
  {
   "cell_type": "markdown",
   "id": "84a53b21",
   "metadata": {},
   "source": [
    "\n",
    "<h2>  For those of you who don't know, so what is my Project anyway? </h2> \n",
    "\n",
    "Marc Wang has created Neural Engines which is the FPGA progression of work on \n",
    "the Orca DSP chip.\n",
    "\n",
    "* Ideally the Neural Engine would be a bit like Loihi gen 3.\n",
    "* Its strenghts are it supports a very high neuron and synapse count. \n",
    "\n",
    "\n",
    "<h3> Why is this non-trivial?</h3>\n",
    "* Its limitations are its synaptic weight bit precision, and its $ V_{M} $ bit precision\n",
    "* People doing aligned research: Mark, Similika, Pablo and others. \n",
    "\n",
    "\n",
    "<h1 align=\"center\">\n",
    "<img src=\"30minupdate/low_bit_precision1.png\" \n",
    "     width=\"300\" \n",
    "     height=\"450\" />\n",
    "</h1>\n",
    "\n",
    "<h1 align=\"center\">\n",
    "<img src=\"30minupdate/low_bit_precision2.png\" \n",
    "     width=\"300\" \n",
    "     height=\"450\" />\n",
    "</h1>\n",
    "\n",
    "* Synaptic weights can obtain very high values.\n",
    "\n",
    "<h1 align=\"center\">\n",
    "<img src=\"30minupdate/one_to_one_connectivity.png\" \n",
    "     width=\"350\" \n",
    "     height=\"400\" />\n",
    "</h1>\n"
   ]
  },
  {
   "cell_type": "markdown",
   "id": "32f75de3",
   "metadata": {},
   "source": [
    "<h2> Which connectome should I use for the Loihi+Neural Engines simulation? </h2>\n",
    "\n",
    "- [x] PyNNs OpenSource Brain implementation of Potjans and Diesmand.\n",
    "- [x] GENNs Multi area model (contains above models).\n",
    "- [ ] Allen Brain V1 BMTK, Sonata (hard to track down a non-distance+cell morphology based wiring scheme).\n",
    "- [ ] Existing Orca Potjan's model expressed in Teili/Brian2 (complicated build/code dependency hell)\n",
    "\n",
    "\n",
    "Each connectome wil be modified by increasing the number of pre-synaptic and post-synaptic connections and then by for pruning and simulated neuronal development.\n"
   ]
  },
  {
   "cell_type": "markdown",
   "id": "6366b6d0",
   "metadata": {},
   "source": [
    "## Two parts to the project\n",
    "* Build an interface to Neural Engines on FPGA (Orca version 2). (Engineering year 1)\n",
    "First year is just establishing the interface\n",
    "* Doing hypothesis testing on the resulting model (Orca version 2). (Science year 2)\n",
    "First year is just establishing the interface\n"
   ]
  },
  {
   "cell_type": "markdown",
   "id": "8b14aa05",
   "metadata": {},
   "source": [
    "### Building the Inteface\n",
    "* Instantiate Potjans model on Loihi using Lava.\n",
    "* Problems, Lava itself is incomplete, and doesn't support STDP or synaptic delays yet.\n",
    "* Interface should be compatible with Intels existing tools."
   ]
  },
  {
   "cell_type": "markdown",
   "id": "9e7e3d43",
   "metadata": {},
   "source": [
    "<!--\n",
    "![30minupdate/multi_area_connectome.png](30minupdate/springs.jpeg)\n",
    "![30minupdate/multi_area_connectome.png](30minupdate/LoihiImage.png)\n",
    "-->\n",
    "\n",
    "\n",
    "\n",
    "## What does the ICNS lab aim to provide?\n",
    "\n",
    "* Web access to a super scaled interconnected bridged FPGA board system like Poihiki Springs?\n",
    "* A build your own approach to a single board (FOSS tools cheaper and preferable)!\n",
    "\n",
    "<!--<h1 align=\"center\">\n",
    "<img src=\"30minupdate/springs.jpeg\" \n",
    "     width=\"300\" \n",
    "     height=\"450\" />\n",
    "</h1>-->\n",
    "\n",
    "\n",
    "<h1 align=\"center\">\n",
    "<img src=\"30minupdate/LoihiImage.png\" \n",
    "     width=\"450\" \n",
    "     height=\"600\" />\n",
    "</h1>\n"
   ]
  },
  {
   "cell_type": "markdown",
   "id": "8d9f0c30",
   "metadata": {},
   "source": [
    "* Can I use parameter optimization can I get a limited bit precision network to get close to reproducing published \n"
   ]
  },
  {
   "cell_type": "markdown",
   "id": "d64eb5ee",
   "metadata": {},
   "source": [
    "\n",
    " \n",
    " \n",
    "<h1 align=\"center\">\n",
    "<img src=\"30minupdate/multi_area_connectome.png\" \n",
    "     width=\"500\" \n",
    "     height=\"750\"/>\n",
    "</h1>\n",
    "* Each node is actually a Potjan network.\n",
    "\n",
    "<h1 align=\"center\">\n",
    "<img src=\"30minupdate/multi_area.png\" \n",
    "     width=\"500\" \n",
    "     height=\"750\" />\n",
    "</h1>\n",
    "\n"
   ]
  },
  {
   "cell_type": "markdown",
   "id": "ed8c94cd",
   "metadata": {},
   "source": [
    "* **I ran a Cpp+CUDA model on NVIDIA jetson nano**\n",
    "* Since then we have decided to focus on Lava.\n",
    "\n",
    "* I ran the multi area model on a my secondhand ebay gaming workstation (memory exhaustion).\n"
   ]
  },
  {
   "cell_type": "markdown",
   "id": "5339aa05",
   "metadata": {},
   "source": [
    "<h2 align=\"center\">\n",
    "\n",
    "    Julia Odesa\n",
    "</h2>\n",
    "\n",
    "* Intended to show I could speed up Python code, but Yesh did this for me instead.\n",
    "* Instead I made a lot of sensible interventions.\n",
    "\n",
    "* Broke code into smaller functions, added readme documentation, \n",
    "* changed file structure to make it more predictable.\n",
    "* increased Inheritance.\n",
    "\n",
    "Profile view. recover from chat with Yesh.\n",
    "\n",
    "Speed Leads:\n",
    "* Loop Vectorization\n",
    "* Linear Indexing\n",
    "* Break code into functions\n",
    "* Allocate Mutable Static sized Arrays inside small functions\n",
    "* Multithreading\n",
    "* What I did do. Made the code more sharable and standardised.\n",
    "\n",
    "\n",
    "<h1 align=\"center\">\n",
    "<img src=\"30minupdate/odesa_jl.png\" \n",
    "     width=\"700\" \n",
    "     height=\"850\" />\n",
    "</h1>"
   ]
  },
  {
   "cell_type": "code",
   "execution_count": 1,
   "id": "b474fc07-9010-431e-824d-f6decfe94923",
   "metadata": {},
   "outputs": [],
   "source": [
    "import pyvis"
   ]
  },
  {
   "cell_type": "markdown",
   "id": "71592f52",
   "metadata": {},
   "source": [
    "<h1>  Teaching. </h1> \n",
    "\n",
    "I made a lecture/tutorial for MoNE.\n",
    "\n",
    "\n",
    "\n",
    "[![Open In Colab](https://colab.research.google.com/assets/colab-badge.svg)](https://colab.research.google.com/drive/1BBKqg6ng23DWC4z-S5o_oiekM-vFHvgp?usp=sharing)\n",
    "\n",
    "<h2> Why Google Colabatory? </h2>\n",
    "\n",
    "* Cloud Environment\n",
    "* Highly reproducible (If code runs for you it runs for everyone). \n",
    "* Nothing persists between sessions, when you logout of the browser tab, everything starts from scratch\n",
    "* It is a Python platform that can also render HTML and $ \\LaTeX $ \n",
    "\n",
    "\n",
    "\n",
    "* Build greater continuity between Neurons in Action course and my tutorial\n",
    "* Cannibalize some of NIA into google colab \n",
    "\n",
    "\n"
   ]
  },
  {
   "cell_type": "markdown",
   "id": "2674b67d",
   "metadata": {},
   "source": [
    "\n",
    "\n",
    "\n",
    "* Why speed and resource friendliness.\n",
    "* It was my goal to show that the julia version of convolution could be made faster.\n",
    "\n",
    "Yesh himself showed that on a simple fully connected model trained on Iris classification.\n",
    "\n",
    "Both the Python version and the Julia version of convolution are slow\n",
    "\n",
    "* Applied profile view\n",
    "\n",
    "* Found that a triply nested for loop in the record function is one of the slowest parts of the algorithm.\n",
    "\n",
    "* reduced precision from Float64 to Float32.\n",
    "\n",
    "* experimented with ways to speed up algorithm. Did not succeed yet, but I have some good leads.\n",
    "\n",
    "\n",
    "\n",
    "\n",
    "     \n",
    "\n",
    "\n",
    "\n",
    "     \n",
    "\n",
    "\n"
   ]
  },
  {
   "cell_type": "markdown",
   "id": "ebb42216",
   "metadata": {},
   "source": [
    "# Yesh found that Julia trained on Iris flower classification\n",
    "\n",
    "38 Python/1.45 Julia\n",
    "Julia 26 * speed up.\n",
    "Classified Correct Julia : 0.92, Python :0.86"
   ]
  },
  {
   "cell_type": "markdown",
   "id": "86bf7f9b",
   "metadata": {},
   "source": [
    "# Possible scientific hypothesis.\n",
    "\n",
    "\n",
    "\n",
    "the Trajectory of neuronal development \n",
    "\n",
    "* Attractor and the nuber of stored memories\n",
    "\n",
    "* Can STDP based pruning reliably lead to different initiations of network back to same behavior?\n",
    "\n",
    "* Starting from a hyper connected network is there an optimal time to stop a simulation of pruning.\n",
    "\n",
    "* Dynamics (firing frequencies).\n",
    "\n",
    "* a limited bit precision network can do predictive coding pattern completion at large scale (corroborate Pablo's thesis)"
   ]
  },
  {
   "cell_type": "markdown",
   "id": "cf16d052",
   "metadata": {},
   "source": [
    "\n",
    "\n",
    "<h1 align=\"center\">\n",
    "    What science can we do with a model, \n",
    "</h1>\n",
    "<h3 align=\"center\">\n",
    "    That is unrealistic in many respects but is realistic\n",
    "    in its scale and its synaptic learning? \n",
    "</h3>\n",
    "<h3 align=\"center\">\n",
    "    Ideas:\n",
    "</h3>\n",
    "\n",
    "* Optimization. \n",
    "\n",
    "* Synaptic Pruning in Neuronal Development (is trajectory and evolution of pruning reproducible)?\n",
    "    - Getting from over connected to normally connected (modified STPD).\n",
    "    \n",
    "* Optimize to find network parameters (synaptic density, neuron parameters) that stop network weight values quickly obtaining maximal values.     \n",
    "    \n",
    "* Recapitulate Pablos work with predictive coding.\n",
    "\n",
    "\n",
    "\n",
    "\n",
    "<h1 align=\"center\">\n",
    "<img src=\"30minupdate/regular_stdp.jpeg\" \n",
    "     width=\"300\" \n",
    "     height=\"450\" />\n",
    "</h1>\n",
    "\n",
    "## Prevent Epilepsy\n",
    "# Optimize the STDP shape?\n",
    "## Clip Potentiation maximum value?\n",
    "## Exagerrated Depression Phase\n",
    "<h1 align=\"center\">\n",
    "<img src=\"30minupdate/enhanced_depression_phase_clipped.jpeg\" \n",
    "     width=\"300\" \n",
    "     height=\"450\" />\n",
    "</h1>\n"
   ]
  },
  {
   "cell_type": "markdown",
   "id": "042438e1",
   "metadata": {},
   "source": [
    "# Moving Target versus no target\n",
    "Moving targets are bad, but no targets might be worse.\n",
    "* Should I build for Orca first and Neural Engines second?\n",
    "\n"
   ]
  },
  {
   "cell_type": "markdown",
   "id": "ca831220",
   "metadata": {},
   "source": [
    "# In very large scale ANN Network Compression \n",
    "* means satisficing on bit precision.\n",
    "* reducing the time and resources needed to converge an ANN model.\n",
    "* In parallel building a large SNN model seems to need the same influences."
   ]
  },
  {
   "cell_type": "markdown",
   "id": "194866e2",
   "metadata": {
    "slideshow": {
     "slide_type": "fragment"
    }
   },
   "source": [
    "\n",
    "| SWOT | - | \n",
    "| ----------- | ----------- |\n",
    "| Strengths | weaknesses |\n",
    "| Oppurtunities | threats |\n",
    "\n",
    "# Python (existing) Brian2 Telic\n",
    "\n",
    "| Brian2 + Telic | Description |\n",
    "| --- | ----------- |\n",
    "| Partial solution to older related problem | building and maintaining framework hard |\n",
    "| Use connectome and sim params | Time sink, unknown obstacles |\n",
    "\n",
    "\n",
    "\n",
    "# Python Lava SWOT\n",
    "\n",
    "| Syntax | Description |\n",
    "| --- | ----------- |\n",
    "| Lava is maintened, and compiles for Loihi | Necessary features missing |\n",
    "| Can benefit from Loihi as proof of concept until FPGA available | Unknown STDP and delay delivery time |\n",
    "\n",
    "# Cpp SWOT\n",
    "\n",
    "| Cpp/GENN | Model already exists |\n",
    "| --- | ----------- |\n",
    "| Good env for experimenting with limited precision | Title |\n",
    "| Paragraph | Text |\n",
    "\n",
    "\n",
    "# Julia Binary Analysis SWOT\n",
    "\n",
    "| Syntax | Description | | |\n",
    "| --- | ----------- | ----------- | ----------- |\n",
    "| Fast | fragmentates environment over 2 languages | strength | weakness |\n",
    "| Compile as binary | - | oppurtunities | threats |"
   ]
  },
  {
   "cell_type": "markdown",
   "id": "b1b91b5a",
   "metadata": {},
   "source": [
    "\n",
    "\n",
    "\n",
    "# After two different SWOT.\n",
    "\n",
    "| Syntax | Description |\n",
    "| --- | ----------- |\n",
    "| Header | Title |\n",
    "| Paragraph | Text |\n",
    "\n",
    "\n",
    "# Julia\n",
    "\n",
    "* Faster execution, faster learning of bugs, faster parameter fitting and more time for human thinking\n",
    "* Total Energy consumed = development time + execution time (disregarding embedded energy manufactoring device).\n",
    "* Aligned with green computing goals of ICNS\n",
    "\n",
    "[]()"
   ]
  },
  {
   "cell_type": "markdown",
   "id": "4cfa0608",
   "metadata": {},
   "source": [
    "## How much should I leverage existing simulations and approaches?\n",
    "* Lava alternative to Brian2 \n",
    "* Sometimes it is good to re-purpose what already exists.\n",
    "* Sometimes the tools and approaches got in the way."
   ]
  },
  {
   "cell_type": "markdown",
   "id": "96997483",
   "metadata": {},
   "source": [
    "# Project failures\n",
    "* 80% of Engineering projects fail.\n",
    "* 80% of machine learning projects fail.\n",
    "* ?% of scientific projects fail. - publishing negative results is still possible.\n",
    "\n"
   ]
  },
  {
   "cell_type": "code",
   "execution_count": null,
   "id": "c6a13ea6",
   "metadata": {},
   "outputs": [],
   "source": []
  }
 ],
 "metadata": {
  "kernelspec": {
   "display_name": "Python 3",
   "language": "python",
   "name": "python3"
  },
  "language_info": {
   "codemirror_mode": {
    "name": "ipython",
    "version": 3
   },
   "file_extension": ".py",
   "mimetype": "text/x-python",
   "name": "python",
   "nbconvert_exporter": "python",
   "pygments_lexer": "ipython3",
   "version": "3.9.5"
  }
 },
 "nbformat": 4,
 "nbformat_minor": 5
}
