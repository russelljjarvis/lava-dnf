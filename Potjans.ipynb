{
 "cells": [
  {
   "cell_type": "markdown",
   "id": "1992d9b4",
   "metadata": {},
   "source": [
    "\n",
    "<h1 align=\"center\">\n",
    "  Lava, Lava DNF and Loihi x\n",
    "</h1>\n",
    "\n",
    "\n",
    "Below is a diagram of the Potjan's model. We wish to use Lava an Intel supported interface to instantiate a cortical model of V1 on Intel Loihi.\n",
    "\n",
    "<h1 align=\"center\">\n",
    "\n",
    "<img src=\"Schematic-diagram-of-the-Potjans-Diesmann-cortical-microcircuit-model.png\" \n",
    "     width=\"300\" \n",
    "     height=\"350\" />\n",
    "</h1>\n",
    "\n"
   ]
  },
  {
   "cell_type": "markdown",
   "id": "e817e035",
   "metadata": {},
   "source": [
    "# Import some packages."
   ]
  },
  {
   "cell_type": "code",
   "execution_count": 1,
   "id": "80940b82",
   "metadata": {},
   "outputs": [],
   "source": [
    "from lava.lib.dnf.operations.operations import Weights\n",
    "from lava.lib.dnf.operations.operations import *\n",
    "from lava.proc.lif.process import LIF\n",
    "from lava.lib.dnf.inputs.rate_code_spike_gen.process import RateCodeSpikeGen\n",
    "from lava.lib.dnf.connect.connect import connect\n",
    "from lava.lib.dnf.operations.operations import Weights\n",
    "from lava.magma.core.run_configs import Loihi1SimCfg #Loihi simulator, not  Loihi itself.\n",
    "from lava.magma.core.run_conditions import RunSteps\n",
    "from lava.proc.monitor.process import Monitor\n",
    "from lava.proc.monitor.models import PyMonitorModel\n",
    "from lava.lib.dnf.inputs.gauss_pattern.process import GaussPattern\n",
    "from lava.lib.dnf.kernels.kernels import MultiPeakKernel\n",
    "import numpy as np\n",
    "from lava.lib.dnf.utils.plotting import raster_plot\n"
   ]
  },
  {
   "cell_type": "markdown",
   "id": "2d4fef86",
   "metadata": {},
   "source": [
    "# Cortical Specs:\n",
    "* 2 columns.\n",
    "* 4 layers\n",
    "* 1 excitatory and 1 inhibitory population per layer.\n",
    "* 85 cells per population 170 cells per layer."
   ]
  },
  {
   "cell_type": "code",
   "execution_count": 2,
   "id": "062001f6",
   "metadata": {},
   "outputs": [],
   "source": [
    "\n",
    "ncolumns=2\n"
   ]
  },
  {
   "cell_type": "markdown",
   "id": "93de13ab",
   "metadata": {},
   "source": [
    "### Create the layerwise populations "
   ]
  },
  {
   "cell_type": "code",
   "execution_count": 3,
   "id": "e6cb0210",
   "metadata": {},
   "outputs": [],
   "source": [
    "ly_2_3_ex = np.ndarray((ncolumns),dtype=object)#,LIF()))\n",
    "ly_4_ex = np.ndarray((ncolumns),dtype=object)#LIF))\n",
    "ly_5_ex = np.ndarray((ncolumns),dtype=object)#,LIF))\n",
    "ly_6_ex = np.ndarray((ncolumns),dtype=object)#,LIF))\n",
    "\n",
    "\n",
    "ly_2_3_in = np.ndarray((ncolumns),dtype=object)#,LIF))\n",
    "ly_4_in = np.ndarray((ncolumns),dtype=object)#,LIF))\n",
    "ly_5_in = np.ndarray((ncolumns),dtype=object)#,LIF))\n",
    "ly_6_in = np.ndarray((ncolumns),dtype=object)#,LIF))\n",
    "\n",
    "ncells = 85\n",
    "for i in range(0,ncolumns):\n",
    "    ly_2_3_ex[i] = LIF(shape=(ncells,))#, du=2047, dv=2047, vth=200)\n",
    "    ly_4_ex[i] = LIF(shape=(ncells,))#, du=2047, dv=2047, vth=200)\n",
    "    ly_5_ex[i] = LIF(shape=(ncells,))#, du=2047, dv=2047, vth=200)\n",
    "    ly_6_ex[i] = LIF(shape=(ncells,))#, du=2047, dv=2047, vth=200)\n",
    "\n",
    "\n",
    "    ly_2_3_in[i] = LIF(shape=(ncells,))#, du=2047, dv=2047, vth=200)\n",
    "    ly_4_in[i] = LIF(shape=(ncells,))#, du=2047, dv=2047, vth=200)\n",
    "    ly_5_in[i] = LIF(shape=(ncells,))#, du=2047, dv=2047, vth=200)\n",
    "    ly_6_in[i] = LIF(shape=(ncells,))#, du=2047, dv=2047, vth=200)\n",
    "\n",
    "    "
   ]
  },
  {
   "cell_type": "markdown",
   "id": "2d54742b",
   "metadata": {},
   "source": [
    "# Create the connectivity pattern \n",
    "* from the Potjan's wiring diagram\n",
    "\n",
    "### Stereo typed connections:"
   ]
  },
  {
   "cell_type": "code",
   "execution_count": 4,
   "id": "014772d9",
   "metadata": {},
   "outputs": [],
   "source": [
    "\n",
    "connections=[]\n",
    "for i in range(0,ncolumns):\n",
    "        \n",
    "    one2onec = connect(ly_2_3_ex[i].s_out, ly_2_3_ex[i].a_in, ops=[Weights(1.0)])\n",
    "    connections.append(one2onec)\n",
    "\n",
    "    #ly_4_ex[i] 2 ly_4_ex[i]\n",
    "            \n",
    "    one2onec = connect(ly_4_ex[i].s_out, ly_4_ex[i].a_in, ops=[Weights(1.0)])\n",
    "    connections.append(one2onec)\n",
    "\n",
    "    #ly_5_ex[i] 2 ly_5_ex[i]\n",
    "    one2onec = connect(ly_5_ex[i].s_out, ly_5_ex[i].a_in, ops=[Weights(1.0)])\n",
    "    connections.append(one2onec)\n",
    "\n",
    "    #ly_6_ex[i] 2 ly_6_ex[i]\n",
    "    one2onec = connect(ly_6_ex[i].s_out, ly_6_ex[i].a_in, ops=[Weights(1.0)])\n",
    "    connections.append(one2onec)\n",
    "\n"
   ]
  },
  {
   "cell_type": "code",
   "execution_count": 5,
   "id": "abddfe9a",
   "metadata": {},
   "outputs": [],
   "source": [
    "    \n",
    "# one to one connect inhibitory layers to themselves.\n",
    "\n",
    "for i in range(0,ncolumns):\n",
    "    #ly_2_3_in[i] 2 ly_2_3_in[i]\n",
    "    one2onec = connect(ly_2_3_in[i].s_out, ly_2_3_in[i].a_in, ops=[Weights(-0.5)])\n",
    "    connections.append(one2onec)\n",
    "\n",
    "    #ly_4_in[i] 2 ly_4_in[i]\n",
    "    one2onec = connect(ly_4_in[i].s_out, ly_4_in[i].a_in, ops=[Weights(-0.5)])\n",
    "    connections.append(one2onec)\n",
    "\n",
    "    #ly_5_in[i] 2 ly_5_in[i]\n",
    "    one2onec = connect(ly_5_in[i].s_out, ly_5_in[i].a_in, ops=[Weights(-0.5)])\n",
    "    connections.append(one2onec)\n",
    "\n",
    "    #ly_6_in[i] 2 ly_6_in[i]\n",
    "    one2onec = connect(ly_6_in[i].s_out, ly_6_in[i].a_in, ops=[Weights(-0.5)])\n",
    "    connections.append(one2onec)\n",
    "\n",
    "# one to one connect inhibitory layers to exc.\n",
    "\n",
    "\n",
    "# one to one connect exc layers to inhib.\n",
    "\n",
    "for i in range(0,ncolumns):\n",
    "\n",
    "    #ly_2_3_ex[i] 2 ly_2_3_in[i]\n",
    "    one2onec = connect(ly_2_3_ex[i].s_out, ly_2_3_in[i].a_in, ops=[Weights(1.0)])\n",
    "    connections.append(one2onec)\n",
    "\n",
    "    #ly_4_ex[i] 2 ly_4_in[i]\n",
    "    one2onec = connect(ly_4_ex[i].s_out, ly_4_in[i].a_in, ops=[Weights(1.0)])\n",
    "    connections.append(one2onec)\n",
    "\n",
    "    #ly_5_ex[i] 2 ly_5_in[i]\n",
    "    one2onec = connect(ly_5_ex[i].s_out, ly_5_in[i].a_in, ops=[Weights(1.0)])\n",
    "    connections.append(one2onec)\n",
    "\n",
    "    #ly_6_ex[i] 2 ly_6_in[i]\n",
    "    one2onec = connect(ly_6_ex[i].s_out, ly_6_in[i].a_in, ops=[Weights(1.0)])\n",
    "    connections.append(one2onec)\n",
    "\n",
    "for i in range(0,ncolumns):\n",
    "    #ly_2_3_in[i] 2 ly_2_3_exc[i]\n",
    "    ly_2_3_ex\n",
    "    one2onec = connect(ly_2_3_in[i].s_out, ly_2_3_ex[i].a_in, ops=[Weights(-1.0)])\n",
    "    connections.append(one2onec)\n",
    "\n",
    "    #ly_4_in[i] 2 ly_4_exc[i]\n",
    "    one2onec = connect(ly_4_in[i].s_out, ly_4_ex[i].a_in, ops=[Weights(-1.0)])\n",
    "    connections.append(one2onec)\n",
    "\n",
    "    #ly_5_in[i] 2 ly_5_exc[i]\n",
    "    one2onec = connect(ly_5_in[i].s_out, ly_5_ex[i].a_in, ops=[Weights(-1.0)])\n",
    "    connections.append(one2onec)\n",
    "    \n",
    "    #ly_6_in[i] 2 ly_6_exc[i]\n",
    "    one2onec = connect(ly_6_in[i].s_out, ly_6_ex[i].a_in, ops=[Weights(-1.0)])\n",
    "    connections.append(one2onec)\n"
   ]
  },
  {
   "cell_type": "markdown",
   "id": "5ad9a6f2",
   "metadata": {},
   "source": [
    "### Less Predictible Connections:"
   ]
  },
  {
   "cell_type": "code",
   "execution_count": 6,
   "id": "1f9fcc26",
   "metadata": {},
   "outputs": [],
   "source": [
    "for i in range(0,ncolumns):\n",
    "\n",
    "    #ly_2_3_ex[i] 2 ly_2_3_in[i]\n",
    "    one2onec = connect(ly_2_3_ex[i].s_out, ly_5_ex[i].s_out, ops=[Weights(1.0)])\n",
    "    connections.append(one2onec)\n",
    "\n",
    "    #ly_4_ex[i] 2 ly_4_in[i]\n",
    "    one2onec = connect(ly_2_3_ex[i].s_out, ly_4_in[i].a_in, ops=[Weights(1.0)])\n",
    "    connections.append(one2onec)\n",
    "\n",
    "    #ly_5_ex[i] 2 ly_5_in[i]\n",
    "    one2onec = connect(ly_2_3_ex[i].s_out, ly_5_in[i].a_in, ops=[Weights(1.0)])\n",
    "    connections.append(one2onec)\n"
   ]
  },
  {
   "cell_type": "code",
   "execution_count": 7,
   "id": "a365d4f9",
   "metadata": {},
   "outputs": [],
   "source": [
    "for i in range(0,ncolumns):\n",
    "\n",
    "    one2onec = connect(ly_5_ex[i].s_out, ly_4_in[i].a_in, ops=[Weights(1.0)])\n",
    "    connections.append(one2onec)\n",
    "    #ly_6_ex[i] 2 ly_6_in[i]\n",
    "    one2onec = connect(ly_6_ex[i].s_out, ly_4_ex[i].a_in, ops=[Weights(1.0)])\n",
    "    connections.append(one2onec)\n",
    "\n",
    "    one2onec = connect(ly_6_ex[i].s_out, ly_2_3_in[i].a_in, ops=[Weights(1.0)])\n",
    "    connections.append(one2onec)\n"
   ]
  },
  {
   "cell_type": "code",
   "execution_count": 8,
   "id": "dea7c8e1",
   "metadata": {},
   "outputs": [],
   "source": [
    "\n",
    "for i in range(0,ncolumns):\n",
    "\n",
    "    one2onec = connect(ly_2_3_ex[i].s_out, ly_2_3_in[i].a_in, ops=[Weights(-0.5)])\n",
    "    connections.append(one2onec)"
   ]
  },
  {
   "cell_type": "code",
   "execution_count": 9,
   "id": "78379982",
   "metadata": {},
   "outputs": [],
   "source": [
    "for i in range(0,ncolumns):\n",
    "\n",
    "    #ly_2_3_ex[i] 2 ly_2_3_in[i]\n",
    "    one2onec = connect(ly_4_ex[i].s_out, ly_2_3_ex[i].s_out, ops=[Weights(1.0)])\n",
    "    connections.append(one2onec)\n",
    "\n",
    "    #ly_4_ex[i] 2 ly_4_in[i]\n",
    "    one2onec = connect(ly_4_ex[i].s_out, ly_5_ex[i].a_in, ops=[Weights(1.0)])\n",
    "    connections.append(one2onec)\n",
    "\n",
    "    #ly_5_ex[i] 2 ly_5_in[i]\n",
    "    one2onec = connect(ly_5_ex[i].s_out, ly_6_ex[i].a_in, ops=[Weights(1.0)])\n",
    "    connections.append(one2onec)\n"
   ]
  },
  {
   "cell_type": "code",
   "execution_count": 10,
   "id": "c03ce337",
   "metadata": {},
   "outputs": [],
   "source": [
    "one2onec = connect(ly_2_3_ex[0].s_out, ly_2_3_ex[1].s_out, ops=[Weights(5.0)])\n",
    "connections.append(one2onec)\n"
   ]
  },
  {
   "cell_type": "code",
   "execution_count": 11,
   "id": "a592589a",
   "metadata": {},
   "outputs": [],
   "source": [
    "\n",
    "spike_generator_1 = RateCodeSpikeGen(shape=ncells,)\n",
    "center_cell=ncells/2.0\n",
    "spread_across_number_of_cells=ncells # 125\n",
    "gauss_pattern_1 = GaussPattern(shape=ncells,\n",
    "                               amplitude=100,\n",
    "                               mean=center_cell,\n",
    "                               stddev=spread_across_number_of_cells)\n",
    "gauss_pattern_1.a_out.connect(spike_generator_1.a_in)\n",
    "\n",
    "for i in range(0,ncolumns):\n",
    "    _=connect(spike_generator_1.s_out, ly_4_ex[i].a_in, [Weights(2.5)])\n"
   ]
  },
  {
   "cell_type": "code",
   "execution_count": 12,
   "id": "85476774",
   "metadata": {},
   "outputs": [],
   "source": [
    "\n",
    "time_steps = 50\n",
    "\n",
    "monitor_ly_2_3_ex = Monitor()\n",
    "monitor_ly_2_3_ex.probe(target=ly_2_3_ex[0].s_out, num_steps=time_steps)\n",
    "monitor_ly_2_3_in = Monitor()\n",
    "monitor_ly_2_3_in.probe(target=ly_2_3_in[0].s_out, num_steps=time_steps)\n",
    "\n",
    "monitor_ly_4_ex = Monitor()\n",
    "monitor_ly_4_ex.probe(target=ly_4_ex[0].s_out, num_steps=time_steps)\n",
    "\n",
    "#monitor_ly_2_3_ex = Monitor()\n",
    "#monitor_ly_2_3_ex.probe(target=ly_2_3_ex[0].s_out, num_steps=time_steps)\n",
    "\n",
    "\n",
    "\n",
    "monitor_input_1 = Monitor()\n",
    "monitor_input_1.probe(spike_generator_1.s_out, time_steps)\n",
    "\n",
    "\n",
    "other_column = Monitor()\n",
    "other_column.probe(ly_2_3_ex[1].s_out, time_steps)\n",
    "\n",
    "\n",
    "\n",
    "ly_4_ex[0].amplitude = 100\n",
    "ly_4_ex[0].run(condition=RunSteps(num_steps=time_steps),\n",
    "        run_cfg=Loihi1SimCfg(select_tag='floating_pt'))\n",
    "\n",
    "\n",
    "\n"
   ]
  },
  {
   "cell_type": "code",
   "execution_count": 13,
   "id": "d256ca00",
   "metadata": {},
   "outputs": [
    {
     "data": {
      "image/png": "[encoded data removed]",
      "text/plain": [
       "<Figure size 432x288 with 1 Axes>"
      ]
     },
     "metadata": {
      "needs_background": "light"
     },
     "output_type": "display_data"
    }
   ],
   "source": [
    "# Get probed data from monitors\n",
    "\n",
    "data_input1 = monitor_input_1.get_data()\\\n",
    "    [spike_generator_1.name][spike_generator_1.s_out.name]\n",
    "\n",
    "data_ly_2_3_ex = monitor_ly_2_3_ex.get_data()\\\n",
    "    [ly_2_3_ex[0].name][ly_2_3_ex[0].s_out.name]\n",
    "\n",
    "data_ly_2_3_in = monitor_ly_2_3_in.get_data()\\\n",
    "    [ly_2_3_in[0].name][ly_2_3_in[0].s_out.name]\n",
    "\n",
    "\n",
    "data_ly_4_ex = monitor_ly_4_ex.get_data()\\\n",
    "    [ly_4_ex[0].name][ly_4_ex[0].s_out.name]\n",
    "\n",
    "\n",
    "\n",
    "\n",
    "\n",
    "raster_plot(data_ly_2_3_ex.T)\n",
    "\n"
   ]
  },
  {
   "cell_type": "code",
   "execution_count": 14,
   "id": "a17b3e51",
   "metadata": {},
   "outputs": [
    {
     "data": {
      "image/png": "[encoded data removed]",
      "text/plain": [
       "<Figure size 432x288 with 1 Axes>"
      ]
     },
     "metadata": {
      "needs_background": "light"
     },
     "output_type": "display_data"
    }
   ],
   "source": [
    "\n",
    "raster_plot(data_ly_4_ex.T)\n"
   ]
  },
  {
   "cell_type": "code",
   "execution_count": 15,
   "id": "255939b7",
   "metadata": {},
   "outputs": [
    {
     "data": {
      "image/png": "[encoded data removed]",
      "text/plain": [
       "<Figure size 432x288 with 1 Axes>"
      ]
     },
     "metadata": {
      "needs_background": "light"
     },
     "output_type": "display_data"
    }
   ],
   "source": [
    "raster_plot(data_ly_2_3_in.T)\n"
   ]
  },
  {
   "cell_type": "code",
   "execution_count": 16,
   "id": "04e0709d",
   "metadata": {},
   "outputs": [
    {
     "data": {
      "image/png": "[encoded data removed]",
      "text/plain": [
       "<Figure size 432x288 with 1 Axes>"
      ]
     },
     "metadata": {
      "needs_background": "light"
     },
     "output_type": "display_data"
    }
   ],
   "source": [
    "raster_plot(data_ly_2_3_ex.T)"
   ]
  },
  {
   "cell_type": "code",
   "execution_count": 17,
   "id": "38b7491b",
   "metadata": {},
   "outputs": [
    {
     "data": {
      "image/png": "[encoded data removed]",
      "text/plain": [
       "<Figure size 432x288 with 1 Axes>"
      ]
     },
     "metadata": {
      "needs_background": "light"
     },
     "output_type": "display_data"
    }
   ],
   "source": [
    "\n",
    "raster_plot(data_input1.T)\n",
    "\n"
   ]
  },
  {
   "cell_type": "markdown",
   "id": "7c3454f2",
   "metadata": {},
   "source": [
    "### Check to see that brain activity propogated from one side of cortex to the other."
   ]
  },
  {
   "cell_type": "code",
   "execution_count": 18,
   "id": "14441c7a",
   "metadata": {},
   "outputs": [
    {
     "data": {
      "image/png": "[encoded data removed]",
      "text/plain": [
       "<Figure size 432x288 with 1 Axes>"
      ]
     },
     "metadata": {
      "needs_background": "light"
     },
     "output_type": "display_data"
    }
   ],
   "source": [
    "data_ly_2_3_ex = other_column.get_data()\\\n",
    "    [ly_2_3_ex[1].name][ly_2_3_ex[1].s_out.name]\n",
    "\n",
    "\n",
    "raster_plot(data_ly_2_3_ex.T)\n"
   ]
  },
  {
   "cell_type": "code",
   "execution_count": null,
   "id": "81b05a5a",
   "metadata": {},
   "outputs": [],
   "source": []
  }
 ],
 "metadata": {
  "kernelspec": {
   "display_name": "Python 3",
   "language": "python",
   "name": "python3"
  },
  "language_info": {
   "codemirror_mode": {
    "name": "ipython",
    "version": 3
   },
   "file_extension": ".py",
   "mimetype": "text/x-python",
   "name": "python",
   "nbconvert_exporter": "python",
   "pygments_lexer": "ipython3",
   "version": "3.9.5"
  }
 },
 "nbformat": 4,
 "nbformat_minor": 5
}
