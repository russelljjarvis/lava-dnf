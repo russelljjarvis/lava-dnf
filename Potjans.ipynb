{
 "cells": [
  {
   "cell_type": "markdown",
   "id": "de32c00d",
   "metadata": {},
   "source": [
    "\n",
    "<h1 align=\"center\">\n",
    "  Lava, Lava-DNF and Loihi x\n",
    "</h1>\n",
    "\n",
    "### The Loihi Software Ecosystem\n",
    "\n",
    "\n",
    "# The relationship between Magma and Lava\n",
    "\n",
    "<img src=\"magma_versus_lava.png\" \n",
    "     width=\"300\" \n",
    "     height=\"350\" />\n",
    "\n",
    "\n",
    "### Lava Magma follows a composable coding paradigm.\n",
    "* Lava architecture \"is inspired from the Communicating Sequential Process (CSP) paradigm for asynchronous, parallel systems that interact via message passing.\"\n",
    "\n",
    "### Since Lava is \"composable\" in theory these older Loihi coding paradigms should be interopable:\n",
    "* Intel: NxSDK Also known as the Loihi Neurocore API\n",
    "* SNIPS C code.\n",
    "\n",
    "* \"The specific components of Magma needed to compile processes specifically to Intel Loihi chips remains proprietary to Intel and is not provided through this GitHub site (see below). Similar Magma-layer code for other future commercial neuromorphic platforms likely will also remain proprietary.\""
   ]
  },
  {
   "cell_type": "markdown",
   "id": "172c2d4d",
   "metadata": {},
   "source": [
    "## Loihi\n",
    "<img src=\"loihi_diagram.png\" \n",
    "     width=\"300\" \n",
    "     height=\"450\" />\n",
    "     \n",
    "     \n",
    "### Lava Dynamic Neural Fields Lava-DNF \n",
    "* DNF is the subset of the Lava paradigm that has a lot of useful patterns for specifying biological connectivity. \n",
    "* https://github.com/lava-nc/lava-dnf\n"
   ]
  },
  {
   "cell_type": "markdown",
   "id": "7c2125a3",
   "metadata": {},
   "source": [
    "# Usefulness of Lava-DNF for large scale biological modelling work\n",
    "\n",
    "#### What we want from an interface\n",
    "\n",
    "- [x] Means to specify forwards connectivity between populations (but it feels cumbersome).\n",
    "- [x] Means to specify recurrent connectivity between populations (but it feels cumbersome).\n",
    "- [ ] Ability to visualize the whole architecture (nothing like TorchViz for ANN architecture yet).\n",
    "- [x] Ability to define LIF Cell populations.\n",
    "- [x] Inhibitory Synapses (negative weight values possible)\n",
    "- [ ] Spike Timing Dependent Plasticity (STDP), or on chip local learning rules (coming).  \n",
    "- [ ] Delay Learning (probably not even planned)\n",
    "- [ ] Adaptive Neurons (supported by SLAYER allegedly composable)\n",
    "- [x] Capacity to support high cell counts.\n",
    "- [ ] performance profiling (including power consumption). (coming)\n"
   ]
  },
  {
   "cell_type": "markdown",
   "id": "1992d9b4",
   "metadata": {
    "slideshow": {
     "slide_type": "slide"
    }
   },
   "source": [
    "\n",
    "<h1 align=\"center\">\n",
    "  To show how I established the tick box above A Lava demonstration Follows.\n",
    "</h1>\n",
    "\n",
    "\n",
    "To evaluate whether Lava is useful for making bioplausible models, we want to define a variety of overlapping Spiking Neural Network (SNN) architectures, you can think of each one as a weighted directed graph: \n",
    "\n",
    "# $G(V, E)$\n",
    "\n",
    "Below is a diagram of the Potjan's cortical model. This model can be thought of as the composition of many weighted directed graphs, therefore we will use Lava a supported interface to instantiate a cortical model of V1 on a Python Loihi simulator.\n",
    "\n",
    "<h1 align=\"center\">\n",
    "\n",
    "<img src=\"Schematic-diagram-of-the-Potjans-Diesmann-cortical-microcircuit-model.png\" \n",
    "     width=\"300\" \n",
    "     height=\"350\" />\n",
    "</h1>\n",
    "\n",
    "## Warning, this NB needs Python-3.8 minimum\n"
   ]
  },
  {
   "cell_type": "markdown",
   "id": "69b5e599",
   "metadata": {
    "slideshow": {
     "slide_type": "slide"
    }
   },
   "source": [
    "## Import some packages."
   ]
  },
  {
   "cell_type": "code",
   "execution_count": 1,
   "id": "80940b82",
   "metadata": {
    "slideshow": {
     "slide_type": "subslide"
    }
   },
   "outputs": [],
   "source": [
    "from lava.lib.dnf.operations.operations import Weights\n",
    "from lava.lib.dnf.operations.operations import *\n",
    "from lava.proc.lif.process import LIF\n",
    "from lava.lib.dnf.inputs.rate_code_spike_gen.process import RateCodeSpikeGen\n",
    "from lava.lib.dnf.connect.connect import connect\n",
    "from lava.lib.dnf.operations.operations import Weights\n",
    "from lava.magma.core.run_configs import Loihi1SimCfg #Loihi simulator, not  Loihi itself.\n",
    "from lava.magma.core.run_conditions import RunSteps\n",
    "from lava.proc.monitor.process import Monitor\n",
    "from lava.proc.monitor.models import PyMonitorModel\n",
    "from lava.lib.dnf.inputs.gauss_pattern.process import GaussPattern\n",
    "from lava.lib.dnf.kernels.kernels import MultiPeakKernel\n",
    "import numpy as np\n",
    "from lava.lib.dnf.utils.plotting import raster_plot\n"
   ]
  },
  {
   "cell_type": "markdown",
   "id": "74e31f69",
   "metadata": {
    "slideshow": {
     "slide_type": "slide"
    }
   },
   "source": [
    "# Cortical Specs:\n",
    "### These numbers are nominal. I chose them to fit the performance of an embattled thinkpad laptop:\n",
    "* 2 columns.\n",
    "* 4 layers\n",
    "* 1 excitatory and 1 inhibitory population per layer.\n",
    "* 85 cells per population 170 cells per layer."
   ]
  },
  {
   "cell_type": "code",
   "execution_count": 2,
   "id": "c7cfc236",
   "metadata": {
    "slideshow": {
     "slide_type": "slide"
    }
   },
   "outputs": [],
   "source": [
    "\n",
    "ncolumns=2\n"
   ]
  },
  {
   "cell_type": "markdown",
   "id": "2095766b",
   "metadata": {
    "slideshow": {
     "slide_type": "subslide"
    }
   },
   "source": [
    "\n",
    "### Create the layerwise populations "
   ]
  },
  {
   "cell_type": "code",
   "execution_count": 3,
   "id": "e6cb0210",
   "metadata": {
    "slideshow": {
     "slide_type": "subslide"
    }
   },
   "outputs": [],
   "source": [
    "ly_2_3_ex = np.ndarray((ncolumns),dtype=object)\n",
    "ly_4_ex = np.ndarray((ncolumns),dtype=object)\n",
    "ly_5_ex = np.ndarray((ncolumns),dtype=object)\n",
    "ly_6_ex = np.ndarray((ncolumns),dtype=object)\n",
    "\n",
    "\n",
    "ly_2_3_in = np.ndarray((ncolumns),dtype=object)\n",
    "ly_4_in = np.ndarray((ncolumns),dtype=object)\n",
    "ly_5_in = np.ndarray((ncolumns),dtype=object)\n",
    "ly_6_in = np.ndarray((ncolumns),dtype=object)\n",
    "\n",
    "ncells = 85\n",
    "for i in range(0,ncolumns):\n",
    "    ly_2_3_ex[i] = LIF(shape=(ncells,))\n",
    "    ly_4_ex[i] = LIF(shape=(ncells,))\n",
    "    ly_5_ex[i] = LIF(shape=(ncells,))\n",
    "    ly_6_ex[i] = LIF(shape=(ncells,))\n",
    "\n",
    "\n",
    "    ly_2_3_in[i] = LIF(shape=(ncells,))\n",
    "    ly_4_in[i] = LIF(shape=(ncells,))\n",
    "    ly_5_in[i] = LIF(shape=(ncells,))\n",
    "    ly_6_in[i] = LIF(shape=(ncells,))\n",
    "\n",
    "    "
   ]
  },
  {
   "cell_type": "markdown",
   "id": "bff29128",
   "metadata": {
    "slideshow": {
     "slide_type": "subslide"
    }
   },
   "source": [
    "<h1 align=\"center\"> Create the connectivity pattern </h1>\n",
    "\n",
    "<h1 align=\"center\">\n",
    "    <img src=\"Schematic-diagram-of-the-Potjans-Diesmann-cortical-microcircuit-model.png\" \n",
    "         width=\"300\" \n",
    "         height=\"350\" />\n",
    "</h1>\n",
    "\n",
    "* from the Potjan's wiring diagram\n",
    "researchgate.net/figure/Schematic-diagram-of-the-Potjans-Diesmann-cortical-microcircuit-model_fig1_349443713\n",
    "\n",
    "# Instruct stereo typed connections whithin and between layers:"
   ]
  },
  {
   "cell_type": "code",
   "execution_count": 4,
   "id": "014772d9",
   "metadata": {
    "slideshow": {
     "slide_type": "slide"
    }
   },
   "outputs": [],
   "source": [
    "\n",
    "connections=[]\n",
    "for i in range(0,ncolumns):\n",
    "        \n",
    "    one2onec = connect(ly_2_3_ex[i].s_out, ly_2_3_ex[i].a_in, ops=[Weights(1.0)])\n",
    "    connections.append(one2onec)\n",
    "\n",
    "    #ly_4_ex[i] 2 ly_4_ex[i]\n",
    "            \n",
    "    one2onec = connect(ly_4_ex[i].s_out, ly_4_ex[i].a_in, ops=[Weights(1.0)])\n",
    "    connections.append(one2onec)\n",
    "\n",
    "    #ly_5_ex[i] 2 ly_5_ex[i]\n",
    "    one2onec = connect(ly_5_ex[i].s_out, ly_5_ex[i].a_in, ops=[Weights(1.0)])\n",
    "    connections.append(one2onec)\n",
    "\n",
    "    #ly_6_ex[i] 2 ly_6_ex[i]\n",
    "    one2onec = connect(ly_6_ex[i].s_out, ly_6_ex[i].a_in, ops=[Weights(1.0)])\n",
    "    connections.append(one2onec)\n",
    "\n"
   ]
  },
  {
   "cell_type": "code",
   "execution_count": 5,
   "id": "abddfe9a",
   "metadata": {
    "slideshow": {
     "slide_type": "skip"
    }
   },
   "outputs": [],
   "source": [
    "for i in range(0,ncolumns):\n",
    "    #ly_2_3_in[i] 2 ly_2_3_in[i]\n",
    "    one2onec = connect(ly_2_3_in[i].s_out, ly_2_3_in[i].a_in, ops=[Weights(-0.5)])\n",
    "    connections.append(one2onec)\n",
    "\n",
    "    #ly_4_in[i] 2 ly_4_in[i]\n",
    "    one2onec = connect(ly_4_in[i].s_out, ly_4_in[i].a_in, ops=[Weights(-0.5)])\n",
    "    connections.append(one2onec)\n",
    "\n",
    "    #ly_5_in[i] 2 ly_5_in[i]\n",
    "    one2onec = connect(ly_5_in[i].s_out, ly_5_in[i].a_in, ops=[Weights(-0.5)])\n",
    "    connections.append(one2onec)\n",
    "\n",
    "    #ly_6_in[i] 2 ly_6_in[i]\n",
    "    one2onec = connect(ly_6_in[i].s_out, ly_6_in[i].a_in, ops=[Weights(-0.5)])\n",
    "    connections.append(one2onec)\n",
    "\n",
    "for i in range(0,ncolumns):\n",
    "\n",
    "    #ly_2_3_ex[i] 2 ly_2_3_in[i]\n",
    "    one2onec = connect(ly_2_3_ex[i].s_out, ly_2_3_in[i].a_in, ops=[Weights(1.0)])\n",
    "    connections.append(one2onec)\n",
    "\n",
    "    #ly_4_ex[i] 2 ly_4_in[i]\n",
    "    one2onec = connect(ly_4_ex[i].s_out, ly_4_in[i].a_in, ops=[Weights(1.0)])\n",
    "    connections.append(one2onec)\n",
    "\n",
    "    #ly_5_ex[i] 2 ly_5_in[i]\n",
    "    one2onec = connect(ly_5_ex[i].s_out, ly_5_in[i].a_in, ops=[Weights(1.0)])\n",
    "    connections.append(one2onec)\n",
    "\n",
    "    #ly_6_ex[i] 2 ly_6_in[i]\n",
    "    one2onec = connect(ly_6_ex[i].s_out, ly_6_in[i].a_in, ops=[Weights(1.0)])\n",
    "    connections.append(one2onec)\n",
    "\n",
    "for i in range(0,ncolumns):\n",
    "    #ly_2_3_in[i] 2 ly_2_3_exc[i]\n",
    "    # ly_2_3_ex\n",
    "    one2onec = connect(ly_2_3_in[i].s_out, ly_2_3_ex[i].a_in, ops=[Weights(-1.0)])\n",
    "    connections.append(one2onec)\n",
    "\n",
    "    #ly_4_in[i] 2 ly_4_exc[i]\n",
    "    one2onec = connect(ly_4_in[i].s_out, ly_4_ex[i].a_in, ops=[Weights(-1.0)])\n",
    "    connections.append(one2onec)\n",
    "\n",
    "    #ly_5_in[i] 2 ly_5_exc[i]\n",
    "    one2onec = connect(ly_5_in[i].s_out, ly_5_ex[i].a_in, ops=[Weights(-1.0)])\n",
    "    connections.append(one2onec)\n",
    "    \n",
    "    #ly_6_in[i] 2 ly_6_exc[i]\n",
    "    one2onec = connect(ly_6_in[i].s_out, ly_6_ex[i].a_in, ops=[Weights(-1.0)])\n",
    "    connections.append(one2onec)\n"
   ]
  },
  {
   "cell_type": "markdown",
   "id": "98564b89",
   "metadata": {
    "slideshow": {
     "slide_type": "slide"
    }
   },
   "source": [
    "### More specific between layer connections:"
   ]
  },
  {
   "cell_type": "code",
   "execution_count": 6,
   "id": "297c928a",
   "metadata": {
    "slideshow": {
     "slide_type": "subslide"
    }
   },
   "outputs": [],
   "source": [
    "for i in range(0,ncolumns):\n",
    "    one2onec = connect(ly_2_3_ex[i].s_out, ly_5_ex[i].s_out, ops=[Weights(1.0)])\n",
    "    connections.append(one2onec)\n",
    "\n",
    "    one2onec = connect(ly_2_3_ex[i].s_out, ly_4_in[i].a_in, ops=[Weights(1.0)])\n",
    "    connections.append(one2onec)\n",
    "\n",
    "    one2onec = connect(ly_2_3_ex[i].s_out, ly_5_in[i].a_in, ops=[Weights(1.0)])\n",
    "    connections.append(one2onec)\n"
   ]
  },
  {
   "cell_type": "code",
   "execution_count": 7,
   "id": "999d9602",
   "metadata": {
    "slideshow": {
     "slide_type": "skip"
    }
   },
   "outputs": [],
   "source": [
    "for i in range(0,ncolumns):\n",
    "\n",
    "    one2onec = connect(ly_5_ex[i].s_out, ly_4_in[i].a_in, ops=[Weights(1.0)])\n",
    "    connections.append(one2onec)\n",
    "\n",
    "    one2onec = connect(ly_6_ex[i].s_out, ly_4_ex[i].a_in, ops=[Weights(1.0)])\n",
    "    connections.append(one2onec)\n",
    "\n",
    "    one2onec = connect(ly_6_ex[i].s_out, ly_2_3_in[i].a_in, ops=[Weights(1.0)])\n",
    "    connections.append(one2onec)\n"
   ]
  },
  {
   "cell_type": "code",
   "execution_count": 8,
   "id": "6d6e39fd",
   "metadata": {
    "slideshow": {
     "slide_type": "skip"
    }
   },
   "outputs": [],
   "source": [
    "\n",
    "for i in range(0,ncolumns):\n",
    "\n",
    "    one2onec = connect(ly_2_3_ex[i].s_out, ly_2_3_in[i].a_in, ops=[Weights(-0.5)])\n",
    "    connections.append(one2onec)"
   ]
  },
  {
   "cell_type": "code",
   "execution_count": 9,
   "id": "701630cf",
   "metadata": {
    "slideshow": {
     "slide_type": "skip"
    }
   },
   "outputs": [],
   "source": [
    "for i in range(0,ncolumns):\n",
    "\n",
    "    one2onec = connect(ly_4_ex[i].s_out, ly_2_3_ex[i].s_out, ops=[Weights(1.0)])\n",
    "    connections.append(one2onec)\n",
    "\n",
    "    one2onec = connect(ly_4_ex[i].s_out, ly_5_ex[i].a_in, ops=[Weights(1.0)])\n",
    "    connections.append(one2onec)\n",
    "\n",
    "    one2onec = connect(ly_5_ex[i].s_out, ly_6_ex[i].a_in, ops=[Weights(1.0)])\n",
    "    connections.append(one2onec)"
   ]
  },
  {
   "cell_type": "markdown",
   "id": "a5611503",
   "metadata": {
    "slideshow": {
     "slide_type": "slide"
    }
   },
   "source": [
    "# Specify a direct connection between each of the two columns\n",
    "As a demonstration only\n",
    "\n",
    "layer 2-3 of Column2 (index 1) gets no tonic input, its input is just the output of column 1 (index 0)\n",
    "ly_2_3_ex[1]\n"
   ]
  },
  {
   "cell_type": "code",
   "execution_count": 10,
   "id": "73280ad8",
   "metadata": {
    "slideshow": {
     "slide_type": "subslide"
    }
   },
   "outputs": [],
   "source": [
    "one2onec = connect(ly_2_3_ex[0].s_out, ly_2_3_ex[1].s_out, ops=[Weights(5.0)])\n",
    "connections.append(one2onec)"
   ]
  },
  {
   "cell_type": "markdown",
   "id": "1f4fe020",
   "metadata": {
    "slideshow": {
     "slide_type": "subslide"
    }
   },
   "source": [
    "# Despite the elaborate wiring instructions the wiring is flawed.\n",
    "\n",
    "* Currently the network has no convergence or divergence between or across layers, so its not so much a network, and more of a series of parallel Feedforward lines, like in the figure below:\n",
    "\n",
    "<h1 align=\"center\">\n",
    "    <img src=\"one_to_one_connectivity.png\" \n",
    "         width=\"90\" \n",
    "         height=\"40\"/>\n",
    "</h1>\n",
    "# TODO:\n",
    "\n",
    "- [ ] Use the OSB PyNN model to wire layer to layer connections with established probabilities from Potjan's.\n",
    "https://github.com/NeuralEnsemble/PyNN/blob/master/examples/Potjans2014/network.py\n",
    "\n",
    "\n"
   ]
  },
  {
   "cell_type": "markdown",
   "id": "b590b240",
   "metadata": {
    "slideshow": {
     "slide_type": "slide"
    }
   },
   "source": [
    "# Create tonic input for the network."
   ]
  },
  {
   "cell_type": "code",
   "execution_count": 11,
   "id": "a592589a",
   "metadata": {
    "slideshow": {
     "slide_type": "subslide"
    }
   },
   "outputs": [],
   "source": [
    "spike_generator_1 = RateCodeSpikeGen(shape=ncells,)\n",
    "center_cell=ncells/2.0\n",
    "spread_across_number_of_cells=ncells # 125\n",
    "gauss_pattern_1 = GaussPattern(shape=ncells,\n",
    "                               amplitude=100,\n",
    "                               mean=center_cell,\n",
    "                               stddev=spread_across_number_of_cells)\n",
    "gauss_pattern_1.a_out.connect(spike_generator_1.a_in)\n",
    "\n",
    "for i in range(0,ncolumns):\n",
    "    _=connect(spike_generator_1.s_out, ly_4_ex[i].a_in, [Weights(2.5)])\n"
   ]
  },
  {
   "cell_type": "markdown",
   "id": "d2ae171f",
   "metadata": {
    "slideshow": {
     "slide_type": "subslide"
    }
   },
   "source": [
    "# Run the psuedo potjans model on CPU for 50ms\n",
    "\n",
    "Strangely you only have to run a segment of the model to run the whole model.\n",
    "\n",
    "Model segments seem to have parent child relationships with other segments if they are connected with network connections, and the Loihi compiler seems to understand that."
   ]
  },
  {
   "cell_type": "code",
   "execution_count": 12,
   "id": "37276653",
   "metadata": {
    "slideshow": {
     "slide_type": "skip"
    }
   },
   "outputs": [],
   "source": [
    "def dont_do():\n",
    "    compiled = ly_4_ex[0].compile(run_cfg=Loihi1SimCfg(select_tag='floating_pt'))\n",
    "    print(dir(compiled))\n",
    "    print(compiled.node_configs[0])\n",
    "    ly_4_ex[0].save('model_test.p')\n",
    "    print(ly_4_ex[0].vars.vth)\n",
    "    print(connections[-2].weights)\n",
    "    print(dir())\n",
    "\n"
   ]
  },
  {
   "cell_type": "markdown",
   "id": "9488a441",
   "metadata": {
    "slideshow": {
     "slide_type": "slide"
    }
   },
   "source": [
    "# Set up the experimental recording rig"
   ]
  },
  {
   "cell_type": "code",
   "execution_count": 13,
   "id": "85476774",
   "metadata": {
    "slideshow": {
     "slide_type": "subslide"
    }
   },
   "outputs": [],
   "source": [
    "\n",
    "time_steps = 50\n",
    "\n",
    "monitor_ly_2_3_ex = Monitor()\n",
    "monitor_ly_2_3_ex.probe(target=ly_2_3_ex[0].s_out, num_steps=time_steps)\n",
    "monitor_ly_2_3_in = Monitor()\n",
    "monitor_ly_2_3_in.probe(target=ly_2_3_in[0].s_out, num_steps=time_steps)\n",
    "monitor_ly_4_ex = Monitor()\n",
    "monitor_ly_4_ex.probe(target=ly_4_ex[0].s_out, num_steps=time_steps)\n",
    "monitor_input_1 = Monitor()\n",
    "monitor_input_1.probe(spike_generator_1.s_out, time_steps)\n",
    "other_column = Monitor()\n",
    "other_column.probe(ly_2_3_ex[1].s_out, time_steps)\n",
    "\n",
    "\n",
    "\n",
    "ly_4_ex[0].amplitude = 100\n",
    "ly_4_ex[0].run(condition=RunSteps(num_steps=time_steps),\n",
    "        run_cfg=Loihi1SimCfg(select_tag='floating_pt'))\n",
    "\n",
    "\n"
   ]
  },
  {
   "cell_type": "markdown",
   "id": "9b23e97c",
   "metadata": {
    "slideshow": {
     "slide_type": "slide"
    }
   },
   "source": [
    "# Get probed data from monitors\n"
   ]
  },
  {
   "cell_type": "code",
   "execution_count": 14,
   "id": "d256ca00",
   "metadata": {
    "slideshow": {
     "slide_type": "subslide"
    }
   },
   "outputs": [
    {
     "data": {
      "image/png": "[encoded data removed]",
      "text/plain": [
       "<Figure size 432x288 with 1 Axes>"
      ]
     },
     "metadata": {
      "needs_background": "light"
     },
     "output_type": "display_data"
    }
   ],
   "source": [
    "\n",
    "data_input1 = monitor_input_1.get_data()\\\n",
    "    [spike_generator_1.name][spike_generator_1.s_out.name]\n",
    "\n",
    "data_ly_2_3_ex = monitor_ly_2_3_ex.get_data()\\\n",
    "    [ly_2_3_ex[0].name][ly_2_3_ex[0].s_out.name]\n",
    "\n",
    "data_ly_2_3_in = monitor_ly_2_3_in.get_data()\\\n",
    "    [ly_2_3_in[0].name][ly_2_3_in[0].s_out.name]\n",
    "\n",
    "\n",
    "data_ly_4_ex = monitor_ly_4_ex.get_data()\\\n",
    "    [ly_4_ex[0].name][ly_4_ex[0].s_out.name]\n",
    "\n",
    "\n",
    "\n",
    "\n",
    "\n",
    "raster_plot(data_ly_2_3_ex.T)\n",
    "\n"
   ]
  },
  {
   "cell_type": "code",
   "execution_count": 15,
   "id": "2a9d8c96",
   "metadata": {
    "slideshow": {
     "slide_type": "subslide"
    }
   },
   "outputs": [
    {
     "data": {
      "image/png": "[encoded data removed]",
      "text/plain": [
       "<Figure size 432x288 with 1 Axes>"
      ]
     },
     "metadata": {
      "needs_background": "light"
     },
     "output_type": "display_data"
    }
   ],
   "source": [
    "\n",
    "raster_plot(data_ly_4_ex.T)\n"
   ]
  },
  {
   "cell_type": "code",
   "execution_count": 16,
   "id": "97dce1ff",
   "metadata": {
    "slideshow": {
     "slide_type": "subslide"
    }
   },
   "outputs": [
    {
     "data": {
      "image/png": "[encoded data removed]",
      "text/plain": [
       "<Figure size 432x288 with 1 Axes>"
      ]
     },
     "metadata": {
      "needs_background": "light"
     },
     "output_type": "display_data"
    }
   ],
   "source": [
    "raster_plot(data_ly_2_3_in.T)\n"
   ]
  },
  {
   "cell_type": "code",
   "execution_count": 17,
   "id": "148a1eb7",
   "metadata": {
    "slideshow": {
     "slide_type": "subslide"
    }
   },
   "outputs": [
    {
     "data": {
      "image/png": "[encoded data removed]",
      "text/plain": [
       "<Figure size 432x288 with 1 Axes>"
      ]
     },
     "metadata": {
      "needs_background": "light"
     },
     "output_type": "display_data"
    }
   ],
   "source": [
    "raster_plot(data_ly_2_3_ex.T)"
   ]
  },
  {
   "cell_type": "code",
   "execution_count": 18,
   "id": "651f2bf7",
   "metadata": {
    "slideshow": {
     "slide_type": "subslide"
    }
   },
   "outputs": [
    {
     "data": {
      "image/png": "[encoded data removed]",
      "text/plain": [
       "<Figure size 432x288 with 1 Axes>"
      ]
     },
     "metadata": {
      "needs_background": "light"
     },
     "output_type": "display_data"
    }
   ],
   "source": [
    "\n",
    "raster_plot(data_input1.T)\n",
    "\n"
   ]
  },
  {
   "cell_type": "markdown",
   "id": "c10abf55",
   "metadata": {
    "slideshow": {
     "slide_type": "skip"
    }
   },
   "source": [
    "### Check to see that brain activity propogated from one column to the other via a dedicated connection"
   ]
  },
  {
   "cell_type": "code",
   "execution_count": 19,
   "id": "a3ca88cd",
   "metadata": {
    "slideshow": {
     "slide_type": "skip"
    }
   },
   "outputs": [
    {
     "data": {
      "image/png": "[encoded data removed]",
      "text/plain": [
       "<Figure size 432x288 with 1 Axes>"
      ]
     },
     "metadata": {
      "needs_background": "light"
     },
     "output_type": "display_data"
    }
   ],
   "source": [
    "data_ly_2_3_ex = other_column.get_data()\\\n",
    "    [ly_2_3_ex[1].name][ly_2_3_ex[1].s_out.name]\n",
    "\n",
    "\n",
    "raster_plot(data_ly_2_3_ex.T)\n"
   ]
  },
  {
   "cell_type": "markdown",
   "id": "7b0b54c4",
   "metadata": {
    "slideshow": {
     "slide_type": "slide"
    }
   },
   "source": [
    "### Verdict the overall approach works for some things but not others.\n",
    "\n",
    "* Fan in and fan out achievable with connection kernels, but this can feel a bit forced and unnatural\n",
    "\n",
    "* Mexican hat weight distributions (lateral inhibition) can be coded.\n",
    "\n",
    "* No synaptic learning capability yet.\n",
    "\n",
    "* It's not clear how to hack STDP in.\n",
    "\n",
    "* It's not clear how composable the LAVA approach is with NxSDK.\n",
    "\n"
   ]
  },
  {
   "cell_type": "code",
   "execution_count": null,
   "id": "1b36cd8a",
   "metadata": {},
   "outputs": [],
   "source": []
  }
 ],
 "metadata": {
  "celltoolbar": "Slideshow",
  "kernelspec": {
   "display_name": "Python 3",
   "language": "python",
   "name": "python3"
  },
  "language_info": {
   "codemirror_mode": {
    "name": "ipython",
    "version": 3
   },
   "file_extension": ".py",
   "mimetype": "text/x-python",
   "name": "python",
   "nbconvert_exporter": "python",
   "pygments_lexer": "ipython3",
   "version": "3.9.5"
  }
 },
 "nbformat": 4,
 "nbformat_minor": 5
}
